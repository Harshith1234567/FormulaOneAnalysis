{
 "cells": [
  {
   "cell_type": "code",
   "execution_count": 1,
   "id": "7c7c78fe",
   "metadata": {
    "_cell_guid": "b1076dfc-b9ad-4769-8c92-a6c4dae69d19",
    "_uuid": "8f2839f25d086af736a60e9eeb907d3b93b6e0e5",
    "execution": {
     "iopub.execute_input": "2023-07-17T12:35:03.749927Z",
     "iopub.status.busy": "2023-07-17T12:35:03.749457Z",
     "iopub.status.idle": "2023-07-17T12:35:05.289892Z",
     "shell.execute_reply": "2023-07-17T12:35:05.288184Z"
    },
    "papermill": {
     "duration": 1.552607,
     "end_time": "2023-07-17T12:35:05.292569",
     "exception": false,
     "start_time": "2023-07-17T12:35:03.739962",
     "status": "completed"
    },
    "tags": []
   },
   "outputs": [
    {
     "name": "stderr",
     "output_type": "stream",
     "text": [
      "/opt/conda/lib/python3.10/site-packages/scipy/__init__.py:146: UserWarning: A NumPy version >=1.16.5 and <1.23.0 is required for this version of SciPy (detected version 1.23.5\n",
      "  warnings.warn(f\"A NumPy version >={np_minversion} and <{np_maxversion}\"\n"
     ]
    },
    {
     "name": "stdout",
     "output_type": "stream",
     "text": [
      "/kaggle/input/formula-1-world-championship-1950-2020/races.csv\n",
      "/kaggle/input/formula-1-world-championship-1950-2020/constructor_results.csv\n",
      "/kaggle/input/formula-1-world-championship-1950-2020/drivers.csv\n",
      "/kaggle/input/formula-1-world-championship-1950-2020/constructors.csv\n",
      "/kaggle/input/formula-1-world-championship-1950-2020/lap_times.csv\n",
      "/kaggle/input/formula-1-world-championship-1950-2020/status.csv\n",
      "/kaggle/input/formula-1-world-championship-1950-2020/driver_standings.csv\n",
      "/kaggle/input/formula-1-world-championship-1950-2020/seasons.csv\n",
      "/kaggle/input/formula-1-world-championship-1950-2020/pit_stops.csv\n",
      "/kaggle/input/formula-1-world-championship-1950-2020/sprint_results.csv\n",
      "/kaggle/input/formula-1-world-championship-1950-2020/constructor_standings.csv\n",
      "/kaggle/input/formula-1-world-championship-1950-2020/results.csv\n",
      "/kaggle/input/formula-1-world-championship-1950-2020/circuits.csv\n",
      "/kaggle/input/formula-1-world-championship-1950-2020/qualifying.csv\n"
     ]
    }
   ],
   "source": [
    "# This Python 3 environment comes with many helpful analytics libraries installed\n",
    "# It is defined by the kaggle/python Docker image: https://github.com/kaggle/docker-python\n",
    "# For example, here's several helpful packages to load\n",
    "\n",
    "import numpy as np # linear algebra\n",
    "import pandas as pd # data processing, CSV file I/O (e.g. pd.read_csv)\n",
    "import matplotlib.pyplot as plt\n",
    "import seaborn as sns\n",
    "\n",
    "# Input data files are available in the read-only \"../input/\" directory\n",
    "# For example, running this (by clicking run or pressing Shift+Enter) will list all files under the input directory\n",
    "\n",
    "import os\n",
    "for dirname, _, filenames in os.walk('/kaggle/input'):\n",
    "    for filename in filenames:\n",
    "        print(os.path.join(dirname, filename))\n",
    "\n",
    "# You can write up to 20GB to the current directory (/kaggle/working/) that gets preserved as output when you create a version using \"Save & Run All\" \n",
    "# You can also write temporary files to /kaggle/temp/, but they won't be saved outside of the current session"
   ]
  },
  {
   "cell_type": "code",
   "execution_count": 2,
   "id": "81a70a53",
   "metadata": {
    "execution": {
     "iopub.execute_input": "2023-07-17T12:35:05.309682Z",
     "iopub.status.busy": "2023-07-17T12:35:05.308466Z",
     "iopub.status.idle": "2023-07-17T12:35:05.392479Z",
     "shell.execute_reply": "2023-07-17T12:35:05.391376Z"
    },
    "papermill": {
     "duration": 0.095591,
     "end_time": "2023-07-17T12:35:05.395475",
     "exception": false,
     "start_time": "2023-07-17T12:35:05.299884",
     "status": "completed"
    },
    "tags": []
   },
   "outputs": [
    {
     "data": {
      "text/html": [
       "<div>\n",
       "<style scoped>\n",
       "    .dataframe tbody tr th:only-of-type {\n",
       "        vertical-align: middle;\n",
       "    }\n",
       "\n",
       "    .dataframe tbody tr th {\n",
       "        vertical-align: top;\n",
       "    }\n",
       "\n",
       "    .dataframe thead th {\n",
       "        text-align: right;\n",
       "    }\n",
       "</style>\n",
       "<table border=\"1\" class=\"dataframe\">\n",
       "  <thead>\n",
       "    <tr style=\"text-align: right;\">\n",
       "      <th></th>\n",
       "      <th>circuitId</th>\n",
       "      <th>circuitRef</th>\n",
       "      <th>name</th>\n",
       "      <th>location</th>\n",
       "      <th>country</th>\n",
       "      <th>lat</th>\n",
       "      <th>lng</th>\n",
       "      <th>alt</th>\n",
       "      <th>url</th>\n",
       "    </tr>\n",
       "  </thead>\n",
       "  <tbody>\n",
       "    <tr>\n",
       "      <th>0</th>\n",
       "      <td>1</td>\n",
       "      <td>albert_park</td>\n",
       "      <td>Albert Park Grand Prix Circuit</td>\n",
       "      <td>Melbourne</td>\n",
       "      <td>Australia</td>\n",
       "      <td>-37.84970</td>\n",
       "      <td>144.96800</td>\n",
       "      <td>10</td>\n",
       "      <td>http://en.wikipedia.org/wiki/Melbourne_Grand_P...</td>\n",
       "    </tr>\n",
       "    <tr>\n",
       "      <th>1</th>\n",
       "      <td>2</td>\n",
       "      <td>sepang</td>\n",
       "      <td>Sepang International Circuit</td>\n",
       "      <td>Kuala Lumpur</td>\n",
       "      <td>Malaysia</td>\n",
       "      <td>2.76083</td>\n",
       "      <td>101.73800</td>\n",
       "      <td>18</td>\n",
       "      <td>http://en.wikipedia.org/wiki/Sepang_Internatio...</td>\n",
       "    </tr>\n",
       "    <tr>\n",
       "      <th>2</th>\n",
       "      <td>3</td>\n",
       "      <td>bahrain</td>\n",
       "      <td>Bahrain International Circuit</td>\n",
       "      <td>Sakhir</td>\n",
       "      <td>Bahrain</td>\n",
       "      <td>26.03250</td>\n",
       "      <td>50.51060</td>\n",
       "      <td>7</td>\n",
       "      <td>http://en.wikipedia.org/wiki/Bahrain_Internati...</td>\n",
       "    </tr>\n",
       "    <tr>\n",
       "      <th>3</th>\n",
       "      <td>4</td>\n",
       "      <td>catalunya</td>\n",
       "      <td>Circuit de Barcelona-Catalunya</td>\n",
       "      <td>Montmeló</td>\n",
       "      <td>Spain</td>\n",
       "      <td>41.57000</td>\n",
       "      <td>2.26111</td>\n",
       "      <td>109</td>\n",
       "      <td>http://en.wikipedia.org/wiki/Circuit_de_Barcel...</td>\n",
       "    </tr>\n",
       "    <tr>\n",
       "      <th>4</th>\n",
       "      <td>5</td>\n",
       "      <td>istanbul</td>\n",
       "      <td>Istanbul Park</td>\n",
       "      <td>Istanbul</td>\n",
       "      <td>Turkey</td>\n",
       "      <td>40.95170</td>\n",
       "      <td>29.40500</td>\n",
       "      <td>130</td>\n",
       "      <td>http://en.wikipedia.org/wiki/Istanbul_Park</td>\n",
       "    </tr>\n",
       "  </tbody>\n",
       "</table>\n",
       "</div>"
      ],
      "text/plain": [
       "   circuitId   circuitRef                            name      location  \\\n",
       "0          1  albert_park  Albert Park Grand Prix Circuit     Melbourne   \n",
       "1          2       sepang    Sepang International Circuit  Kuala Lumpur   \n",
       "2          3      bahrain   Bahrain International Circuit        Sakhir   \n",
       "3          4    catalunya  Circuit de Barcelona-Catalunya      Montmeló   \n",
       "4          5     istanbul                   Istanbul Park      Istanbul   \n",
       "\n",
       "     country       lat        lng  alt  \\\n",
       "0  Australia -37.84970  144.96800   10   \n",
       "1   Malaysia   2.76083  101.73800   18   \n",
       "2    Bahrain  26.03250   50.51060    7   \n",
       "3      Spain  41.57000    2.26111  109   \n",
       "4     Turkey  40.95170   29.40500  130   \n",
       "\n",
       "                                                 url  \n",
       "0  http://en.wikipedia.org/wiki/Melbourne_Grand_P...  \n",
       "1  http://en.wikipedia.org/wiki/Sepang_Internatio...  \n",
       "2  http://en.wikipedia.org/wiki/Bahrain_Internati...  \n",
       "3  http://en.wikipedia.org/wiki/Circuit_de_Barcel...  \n",
       "4         http://en.wikipedia.org/wiki/Istanbul_Park  "
      ]
     },
     "execution_count": 2,
     "metadata": {},
     "output_type": "execute_result"
    }
   ],
   "source": [
    "circuitData=pd.read_csv('/kaggle/input/formula-1-world-championship-1950-2020/circuits.csv')\n",
    "qualiData=pd.read_csv('/kaggle/input/formula-1-world-championship-1950-2020/qualifying.csv')\n",
    "constructorData=pd.read_csv('/kaggle/input/formula-1-world-championship-1950-2020/constructors.csv')\n",
    "circuitData.head()\n"
   ]
  },
  {
   "cell_type": "code",
   "execution_count": 3,
   "id": "4e8a54a9",
   "metadata": {
    "execution": {
     "iopub.execute_input": "2023-07-17T12:35:05.412515Z",
     "iopub.status.busy": "2023-07-17T12:35:05.412111Z",
     "iopub.status.idle": "2023-07-17T12:35:05.426807Z",
     "shell.execute_reply": "2023-07-17T12:35:05.425482Z"
    },
    "papermill": {
     "duration": 0.026401,
     "end_time": "2023-07-17T12:35:05.429474",
     "exception": false,
     "start_time": "2023-07-17T12:35:05.403073",
     "status": "completed"
    },
    "tags": []
   },
   "outputs": [
    {
     "data": {
      "text/html": [
       "<div>\n",
       "<style scoped>\n",
       "    .dataframe tbody tr th:only-of-type {\n",
       "        vertical-align: middle;\n",
       "    }\n",
       "\n",
       "    .dataframe tbody tr th {\n",
       "        vertical-align: top;\n",
       "    }\n",
       "\n",
       "    .dataframe thead th {\n",
       "        text-align: right;\n",
       "    }\n",
       "</style>\n",
       "<table border=\"1\" class=\"dataframe\">\n",
       "  <thead>\n",
       "    <tr style=\"text-align: right;\">\n",
       "      <th></th>\n",
       "      <th>qualifyId</th>\n",
       "      <th>raceId</th>\n",
       "      <th>driverId</th>\n",
       "      <th>constructorId</th>\n",
       "      <th>number</th>\n",
       "      <th>position</th>\n",
       "      <th>q1</th>\n",
       "      <th>q2</th>\n",
       "      <th>q3</th>\n",
       "    </tr>\n",
       "  </thead>\n",
       "  <tbody>\n",
       "    <tr>\n",
       "      <th>0</th>\n",
       "      <td>1</td>\n",
       "      <td>18</td>\n",
       "      <td>1</td>\n",
       "      <td>1</td>\n",
       "      <td>22</td>\n",
       "      <td>1</td>\n",
       "      <td>1:26.572</td>\n",
       "      <td>1:25.187</td>\n",
       "      <td>1:26.714</td>\n",
       "    </tr>\n",
       "    <tr>\n",
       "      <th>1</th>\n",
       "      <td>2</td>\n",
       "      <td>18</td>\n",
       "      <td>9</td>\n",
       "      <td>2</td>\n",
       "      <td>4</td>\n",
       "      <td>2</td>\n",
       "      <td>1:26.103</td>\n",
       "      <td>1:25.315</td>\n",
       "      <td>1:26.869</td>\n",
       "    </tr>\n",
       "    <tr>\n",
       "      <th>2</th>\n",
       "      <td>3</td>\n",
       "      <td>18</td>\n",
       "      <td>5</td>\n",
       "      <td>1</td>\n",
       "      <td>23</td>\n",
       "      <td>3</td>\n",
       "      <td>1:25.664</td>\n",
       "      <td>1:25.452</td>\n",
       "      <td>1:27.079</td>\n",
       "    </tr>\n",
       "    <tr>\n",
       "      <th>3</th>\n",
       "      <td>4</td>\n",
       "      <td>18</td>\n",
       "      <td>13</td>\n",
       "      <td>6</td>\n",
       "      <td>2</td>\n",
       "      <td>4</td>\n",
       "      <td>1:25.994</td>\n",
       "      <td>1:25.691</td>\n",
       "      <td>1:27.178</td>\n",
       "    </tr>\n",
       "    <tr>\n",
       "      <th>4</th>\n",
       "      <td>5</td>\n",
       "      <td>18</td>\n",
       "      <td>2</td>\n",
       "      <td>2</td>\n",
       "      <td>3</td>\n",
       "      <td>5</td>\n",
       "      <td>1:25.960</td>\n",
       "      <td>1:25.518</td>\n",
       "      <td>1:27.236</td>\n",
       "    </tr>\n",
       "  </tbody>\n",
       "</table>\n",
       "</div>"
      ],
      "text/plain": [
       "   qualifyId  raceId  driverId  constructorId  number  position        q1  \\\n",
       "0          1      18         1              1      22         1  1:26.572   \n",
       "1          2      18         9              2       4         2  1:26.103   \n",
       "2          3      18         5              1      23         3  1:25.664   \n",
       "3          4      18        13              6       2         4  1:25.994   \n",
       "4          5      18         2              2       3         5  1:25.960   \n",
       "\n",
       "         q2        q3  \n",
       "0  1:25.187  1:26.714  \n",
       "1  1:25.315  1:26.869  \n",
       "2  1:25.452  1:27.079  \n",
       "3  1:25.691  1:27.178  \n",
       "4  1:25.518  1:27.236  "
      ]
     },
     "execution_count": 3,
     "metadata": {},
     "output_type": "execute_result"
    }
   ],
   "source": [
    "qualiData.head()\n"
   ]
  },
  {
   "cell_type": "code",
   "execution_count": 4,
   "id": "aabf9e7d",
   "metadata": {
    "execution": {
     "iopub.execute_input": "2023-07-17T12:35:05.446594Z",
     "iopub.status.busy": "2023-07-17T12:35:05.446164Z",
     "iopub.status.idle": "2023-07-17T12:35:05.459169Z",
     "shell.execute_reply": "2023-07-17T12:35:05.458008Z"
    },
    "papermill": {
     "duration": 0.024409,
     "end_time": "2023-07-17T12:35:05.461685",
     "exception": false,
     "start_time": "2023-07-17T12:35:05.437276",
     "status": "completed"
    },
    "tags": []
   },
   "outputs": [
    {
     "data": {
      "text/html": [
       "<div>\n",
       "<style scoped>\n",
       "    .dataframe tbody tr th:only-of-type {\n",
       "        vertical-align: middle;\n",
       "    }\n",
       "\n",
       "    .dataframe tbody tr th {\n",
       "        vertical-align: top;\n",
       "    }\n",
       "\n",
       "    .dataframe thead th {\n",
       "        text-align: right;\n",
       "    }\n",
       "</style>\n",
       "<table border=\"1\" class=\"dataframe\">\n",
       "  <thead>\n",
       "    <tr style=\"text-align: right;\">\n",
       "      <th></th>\n",
       "      <th>constructorId</th>\n",
       "      <th>constructorRef</th>\n",
       "      <th>name</th>\n",
       "      <th>nationality</th>\n",
       "      <th>url</th>\n",
       "    </tr>\n",
       "  </thead>\n",
       "  <tbody>\n",
       "    <tr>\n",
       "      <th>0</th>\n",
       "      <td>1</td>\n",
       "      <td>mclaren</td>\n",
       "      <td>McLaren</td>\n",
       "      <td>British</td>\n",
       "      <td>http://en.wikipedia.org/wiki/McLaren</td>\n",
       "    </tr>\n",
       "    <tr>\n",
       "      <th>1</th>\n",
       "      <td>2</td>\n",
       "      <td>bmw_sauber</td>\n",
       "      <td>BMW Sauber</td>\n",
       "      <td>German</td>\n",
       "      <td>http://en.wikipedia.org/wiki/BMW_Sauber</td>\n",
       "    </tr>\n",
       "    <tr>\n",
       "      <th>2</th>\n",
       "      <td>3</td>\n",
       "      <td>williams</td>\n",
       "      <td>Williams</td>\n",
       "      <td>British</td>\n",
       "      <td>http://en.wikipedia.org/wiki/Williams_Grand_Pr...</td>\n",
       "    </tr>\n",
       "    <tr>\n",
       "      <th>3</th>\n",
       "      <td>4</td>\n",
       "      <td>renault</td>\n",
       "      <td>Renault</td>\n",
       "      <td>French</td>\n",
       "      <td>http://en.wikipedia.org/wiki/Renault_in_Formul...</td>\n",
       "    </tr>\n",
       "    <tr>\n",
       "      <th>4</th>\n",
       "      <td>5</td>\n",
       "      <td>toro_rosso</td>\n",
       "      <td>Toro Rosso</td>\n",
       "      <td>Italian</td>\n",
       "      <td>http://en.wikipedia.org/wiki/Scuderia_Toro_Rosso</td>\n",
       "    </tr>\n",
       "  </tbody>\n",
       "</table>\n",
       "</div>"
      ],
      "text/plain": [
       "   constructorId constructorRef        name nationality  \\\n",
       "0              1        mclaren     McLaren     British   \n",
       "1              2     bmw_sauber  BMW Sauber      German   \n",
       "2              3       williams    Williams     British   \n",
       "3              4        renault     Renault      French   \n",
       "4              5     toro_rosso  Toro Rosso     Italian   \n",
       "\n",
       "                                                 url  \n",
       "0               http://en.wikipedia.org/wiki/McLaren  \n",
       "1            http://en.wikipedia.org/wiki/BMW_Sauber  \n",
       "2  http://en.wikipedia.org/wiki/Williams_Grand_Pr...  \n",
       "3  http://en.wikipedia.org/wiki/Renault_in_Formul...  \n",
       "4   http://en.wikipedia.org/wiki/Scuderia_Toro_Rosso  "
      ]
     },
     "execution_count": 4,
     "metadata": {},
     "output_type": "execute_result"
    }
   ],
   "source": [
    "constructorData.head()"
   ]
  },
  {
   "cell_type": "code",
   "execution_count": 5,
   "id": "20ab6cab",
   "metadata": {
    "execution": {
     "iopub.execute_input": "2023-07-17T12:35:05.479976Z",
     "iopub.status.busy": "2023-07-17T12:35:05.479562Z",
     "iopub.status.idle": "2023-07-17T12:35:05.486713Z",
     "shell.execute_reply": "2023-07-17T12:35:05.485487Z"
    },
    "papermill": {
     "duration": 0.019303,
     "end_time": "2023-07-17T12:35:05.489230",
     "exception": false,
     "start_time": "2023-07-17T12:35:05.469927",
     "status": "completed"
    },
    "tags": []
   },
   "outputs": [
    {
     "data": {
      "text/plain": [
       "(9575, 9)"
      ]
     },
     "execution_count": 5,
     "metadata": {},
     "output_type": "execute_result"
    }
   ],
   "source": [
    "qualiData.shape"
   ]
  },
  {
   "cell_type": "markdown",
   "id": "157a2a9a",
   "metadata": {
    "papermill": {
     "duration": 0.007957,
     "end_time": "2023-07-17T12:35:05.505734",
     "exception": false,
     "start_time": "2023-07-17T12:35:05.497777",
     "status": "completed"
    },
    "tags": []
   },
   "source": [
    "# **No of poles with respect to Constructor**"
   ]
  },
  {
   "cell_type": "markdown",
   "id": "16759ee4",
   "metadata": {
    "papermill": {
     "duration": 0.00773,
     "end_time": "2023-07-17T12:35:05.521640",
     "exception": false,
     "start_time": "2023-07-17T12:35:05.513910",
     "status": "completed"
    },
    "tags": []
   },
   "source": []
  },
  {
   "cell_type": "code",
   "execution_count": 6,
   "id": "b81b121d",
   "metadata": {
    "execution": {
     "iopub.execute_input": "2023-07-17T12:35:05.540902Z",
     "iopub.status.busy": "2023-07-17T12:35:05.540464Z",
     "iopub.status.idle": "2023-07-17T12:35:05.557650Z",
     "shell.execute_reply": "2023-07-17T12:35:05.556520Z"
    },
    "papermill": {
     "duration": 0.030406,
     "end_time": "2023-07-17T12:35:05.560114",
     "exception": false,
     "start_time": "2023-07-17T12:35:05.529708",
     "status": "completed"
    },
    "tags": []
   },
   "outputs": [
    {
     "data": {
      "text/plain": [
       "0       0\n",
       "6378    0\n",
       "6380    0\n",
       "6381    0\n",
       "6382    0\n",
       "       ..\n",
       "3192    0\n",
       "3193    0\n",
       "3194    0\n",
       "3195    0\n",
       "9574    0\n",
       "Length: 9575, dtype: int64"
      ]
     },
     "execution_count": 6,
     "metadata": {},
     "output_type": "execute_result"
    }
   ],
   "source": [
    "qualiData[['position','constructorId']].isnull().sum(axis=1).sort_values(ascending=False)"
   ]
  },
  {
   "cell_type": "code",
   "execution_count": 7,
   "id": "68a68662",
   "metadata": {
    "execution": {
     "iopub.execute_input": "2023-07-17T12:35:05.578554Z",
     "iopub.status.busy": "2023-07-17T12:35:05.577925Z",
     "iopub.status.idle": "2023-07-17T12:35:05.590619Z",
     "shell.execute_reply": "2023-07-17T12:35:05.589445Z"
    },
    "papermill": {
     "duration": 0.024573,
     "end_time": "2023-07-17T12:35:05.592848",
     "exception": false,
     "start_time": "2023-07-17T12:35:05.568275",
     "status": "completed"
    },
    "tags": []
   },
   "outputs": [
    {
     "data": {
      "text/plain": [
       "position    448\n",
       "dtype: int64"
      ]
     },
     "execution_count": 7,
     "metadata": {},
     "output_type": "execute_result"
    }
   ],
   "source": [
    "qualiData[['position']].isin([1]).sum(axis=0)"
   ]
  },
  {
   "cell_type": "code",
   "execution_count": 8,
   "id": "5cc39974",
   "metadata": {
    "execution": {
     "iopub.execute_input": "2023-07-17T12:35:05.611655Z",
     "iopub.status.busy": "2023-07-17T12:35:05.610991Z",
     "iopub.status.idle": "2023-07-17T12:35:05.626051Z",
     "shell.execute_reply": "2023-07-17T12:35:05.624970Z"
    },
    "papermill": {
     "duration": 0.027441,
     "end_time": "2023-07-17T12:35:05.628606",
     "exception": false,
     "start_time": "2023-07-17T12:35:05.601165",
     "status": "completed"
    },
    "tags": []
   },
   "outputs": [],
   "source": [
    "qualiConsData=pd.merge(qualiData,constructorData,on='constructorId')"
   ]
  },
  {
   "cell_type": "code",
   "execution_count": 9,
   "id": "b6295a8c",
   "metadata": {
    "execution": {
     "iopub.execute_input": "2023-07-17T12:35:05.647598Z",
     "iopub.status.busy": "2023-07-17T12:35:05.646931Z",
     "iopub.status.idle": "2023-07-17T12:35:05.663434Z",
     "shell.execute_reply": "2023-07-17T12:35:05.662242Z"
    },
    "papermill": {
     "duration": 0.02895,
     "end_time": "2023-07-17T12:35:05.665902",
     "exception": false,
     "start_time": "2023-07-17T12:35:05.636952",
     "status": "completed"
    },
    "tags": []
   },
   "outputs": [
    {
     "data": {
      "text/html": [
       "<div>\n",
       "<style scoped>\n",
       "    .dataframe tbody tr th:only-of-type {\n",
       "        vertical-align: middle;\n",
       "    }\n",
       "\n",
       "    .dataframe tbody tr th {\n",
       "        vertical-align: top;\n",
       "    }\n",
       "\n",
       "    .dataframe thead th {\n",
       "        text-align: right;\n",
       "    }\n",
       "</style>\n",
       "<table border=\"1\" class=\"dataframe\">\n",
       "  <thead>\n",
       "    <tr style=\"text-align: right;\">\n",
       "      <th></th>\n",
       "      <th>qualifyId</th>\n",
       "      <th>raceId</th>\n",
       "      <th>driverId</th>\n",
       "      <th>constructorId</th>\n",
       "      <th>number</th>\n",
       "      <th>position</th>\n",
       "      <th>q1</th>\n",
       "      <th>q2</th>\n",
       "      <th>q3</th>\n",
       "      <th>constructorRef</th>\n",
       "      <th>name</th>\n",
       "      <th>nationality</th>\n",
       "      <th>url</th>\n",
       "    </tr>\n",
       "  </thead>\n",
       "  <tbody>\n",
       "    <tr>\n",
       "      <th>0</th>\n",
       "      <td>1</td>\n",
       "      <td>18</td>\n",
       "      <td>1</td>\n",
       "      <td>1</td>\n",
       "      <td>22</td>\n",
       "      <td>1</td>\n",
       "      <td>1:26.572</td>\n",
       "      <td>1:25.187</td>\n",
       "      <td>1:26.714</td>\n",
       "      <td>mclaren</td>\n",
       "      <td>McLaren</td>\n",
       "      <td>British</td>\n",
       "      <td>http://en.wikipedia.org/wiki/McLaren</td>\n",
       "    </tr>\n",
       "    <tr>\n",
       "      <th>1</th>\n",
       "      <td>3</td>\n",
       "      <td>18</td>\n",
       "      <td>5</td>\n",
       "      <td>1</td>\n",
       "      <td>23</td>\n",
       "      <td>3</td>\n",
       "      <td>1:25.664</td>\n",
       "      <td>1:25.452</td>\n",
       "      <td>1:27.079</td>\n",
       "      <td>mclaren</td>\n",
       "      <td>McLaren</td>\n",
       "      <td>British</td>\n",
       "      <td>http://en.wikipedia.org/wiki/McLaren</td>\n",
       "    </tr>\n",
       "    <tr>\n",
       "      <th>2</th>\n",
       "      <td>25</td>\n",
       "      <td>19</td>\n",
       "      <td>5</td>\n",
       "      <td>1</td>\n",
       "      <td>23</td>\n",
       "      <td>3</td>\n",
       "      <td>1:35.227</td>\n",
       "      <td>1:34.759</td>\n",
       "      <td>1:36.613</td>\n",
       "      <td>mclaren</td>\n",
       "      <td>McLaren</td>\n",
       "      <td>British</td>\n",
       "      <td>http://en.wikipedia.org/wiki/McLaren</td>\n",
       "    </tr>\n",
       "    <tr>\n",
       "      <th>3</th>\n",
       "      <td>26</td>\n",
       "      <td>19</td>\n",
       "      <td>1</td>\n",
       "      <td>1</td>\n",
       "      <td>22</td>\n",
       "      <td>4</td>\n",
       "      <td>1:35.392</td>\n",
       "      <td>1:34.627</td>\n",
       "      <td>1:36.709</td>\n",
       "      <td>mclaren</td>\n",
       "      <td>McLaren</td>\n",
       "      <td>British</td>\n",
       "      <td>http://en.wikipedia.org/wiki/McLaren</td>\n",
       "    </tr>\n",
       "    <tr>\n",
       "      <th>4</th>\n",
       "      <td>47</td>\n",
       "      <td>20</td>\n",
       "      <td>1</td>\n",
       "      <td>1</td>\n",
       "      <td>22</td>\n",
       "      <td>3</td>\n",
       "      <td>1:32.750</td>\n",
       "      <td>1:31.922</td>\n",
       "      <td>1:33.292</td>\n",
       "      <td>mclaren</td>\n",
       "      <td>McLaren</td>\n",
       "      <td>British</td>\n",
       "      <td>http://en.wikipedia.org/wiki/McLaren</td>\n",
       "    </tr>\n",
       "  </tbody>\n",
       "</table>\n",
       "</div>"
      ],
      "text/plain": [
       "   qualifyId  raceId  driverId  constructorId  number  position        q1  \\\n",
       "0          1      18         1              1      22         1  1:26.572   \n",
       "1          3      18         5              1      23         3  1:25.664   \n",
       "2         25      19         5              1      23         3  1:35.227   \n",
       "3         26      19         1              1      22         4  1:35.392   \n",
       "4         47      20         1              1      22         3  1:32.750   \n",
       "\n",
       "         q2        q3 constructorRef     name nationality  \\\n",
       "0  1:25.187  1:26.714        mclaren  McLaren     British   \n",
       "1  1:25.452  1:27.079        mclaren  McLaren     British   \n",
       "2  1:34.759  1:36.613        mclaren  McLaren     British   \n",
       "3  1:34.627  1:36.709        mclaren  McLaren     British   \n",
       "4  1:31.922  1:33.292        mclaren  McLaren     British   \n",
       "\n",
       "                                    url  \n",
       "0  http://en.wikipedia.org/wiki/McLaren  \n",
       "1  http://en.wikipedia.org/wiki/McLaren  \n",
       "2  http://en.wikipedia.org/wiki/McLaren  \n",
       "3  http://en.wikipedia.org/wiki/McLaren  \n",
       "4  http://en.wikipedia.org/wiki/McLaren  "
      ]
     },
     "execution_count": 9,
     "metadata": {},
     "output_type": "execute_result"
    }
   ],
   "source": [
    "qualiConsData.head()"
   ]
  },
  {
   "cell_type": "code",
   "execution_count": 10,
   "id": "74f203c7",
   "metadata": {
    "execution": {
     "iopub.execute_input": "2023-07-17T12:35:05.685021Z",
     "iopub.status.busy": "2023-07-17T12:35:05.684614Z",
     "iopub.status.idle": "2023-07-17T12:35:05.691553Z",
     "shell.execute_reply": "2023-07-17T12:35:05.690421Z"
    },
    "papermill": {
     "duration": 0.019305,
     "end_time": "2023-07-17T12:35:05.693864",
     "exception": false,
     "start_time": "2023-07-17T12:35:05.674559",
     "status": "completed"
    },
    "tags": []
   },
   "outputs": [
    {
     "data": {
      "text/plain": [
       "(9575, 13)"
      ]
     },
     "execution_count": 10,
     "metadata": {},
     "output_type": "execute_result"
    }
   ],
   "source": [
    "qualiConsData.shape"
   ]
  },
  {
   "cell_type": "code",
   "execution_count": 11,
   "id": "6b664c97",
   "metadata": {
    "execution": {
     "iopub.execute_input": "2023-07-17T12:35:05.713660Z",
     "iopub.status.busy": "2023-07-17T12:35:05.712994Z",
     "iopub.status.idle": "2023-07-17T12:35:05.729130Z",
     "shell.execute_reply": "2023-07-17T12:35:05.727926Z"
    },
    "papermill": {
     "duration": 0.02874,
     "end_time": "2023-07-17T12:35:05.731449",
     "exception": false,
     "start_time": "2023-07-17T12:35:05.702709",
     "status": "completed"
    },
    "tags": []
   },
   "outputs": [
    {
     "data": {
      "text/plain": [
       "0       0\n",
       "6378    0\n",
       "6380    0\n",
       "6381    0\n",
       "6382    0\n",
       "       ..\n",
       "3192    0\n",
       "3193    0\n",
       "3194    0\n",
       "3195    0\n",
       "9574    0\n",
       "Length: 9575, dtype: int64"
      ]
     },
     "execution_count": 11,
     "metadata": {},
     "output_type": "execute_result"
    }
   ],
   "source": [
    "qualiConsData[['position','constructorId','name']].isnull().sum(axis=1).sort_values(ascending=False)"
   ]
  },
  {
   "cell_type": "code",
   "execution_count": 12,
   "id": "bdd16127",
   "metadata": {
    "execution": {
     "iopub.execute_input": "2023-07-17T12:35:05.751689Z",
     "iopub.status.busy": "2023-07-17T12:35:05.751012Z",
     "iopub.status.idle": "2023-07-17T12:35:05.760969Z",
     "shell.execute_reply": "2023-07-17T12:35:05.759902Z"
    },
    "papermill": {
     "duration": 0.022716,
     "end_time": "2023-07-17T12:35:05.763252",
     "exception": false,
     "start_time": "2023-07-17T12:35:05.740536",
     "status": "completed"
    },
    "tags": []
   },
   "outputs": [
    {
     "data": {
      "text/plain": [
       "position    448\n",
       "dtype: int64"
      ]
     },
     "execution_count": 12,
     "metadata": {},
     "output_type": "execute_result"
    }
   ],
   "source": [
    "qualiConsData[['position']].isin([1]).sum(axis=0)"
   ]
  },
  {
   "cell_type": "code",
   "execution_count": 13,
   "id": "536b67fe",
   "metadata": {
    "execution": {
     "iopub.execute_input": "2023-07-17T12:35:05.783655Z",
     "iopub.status.busy": "2023-07-17T12:35:05.782987Z",
     "iopub.status.idle": "2023-07-17T12:35:06.070041Z",
     "shell.execute_reply": "2023-07-17T12:35:06.068858Z"
    },
    "papermill": {
     "duration": 0.300439,
     "end_time": "2023-07-17T12:35:06.072789",
     "exception": false,
     "start_time": "2023-07-17T12:35:05.772350",
     "status": "completed"
    },
    "tags": []
   },
   "outputs": [
    {
     "data": {
      "text/plain": [
       "<Axes: xlabel='position'>"
      ]
     },
     "execution_count": 13,
     "metadata": {},
     "output_type": "execute_result"
    },
    {
     "data": {
      "image/png": "[encoded data removed]",
      "text/plain": [
       "<Figure size 640x480 with 1 Axes>"
      ]
     },
     "metadata": {},
     "output_type": "display_data"
    }
   ],
   "source": [
    "qualiConsData[['position']].isin([1]).value_counts().plot(kind=\"bar\")"
   ]
  },
  {
   "cell_type": "code",
   "execution_count": 14,
   "id": "d7860898",
   "metadata": {
    "execution": {
     "iopub.execute_input": "2023-07-17T12:35:06.094905Z",
     "iopub.status.busy": "2023-07-17T12:35:06.094414Z",
     "iopub.status.idle": "2023-07-17T12:35:06.105777Z",
     "shell.execute_reply": "2023-07-17T12:35:06.104873Z"
    },
    "papermill": {
     "duration": 0.02576,
     "end_time": "2023-07-17T12:35:06.108248",
     "exception": false,
     "start_time": "2023-07-17T12:35:06.082488",
     "status": "completed"
    },
    "tags": []
   },
   "outputs": [
    {
     "data": {
      "text/plain": [
       "name\n",
       "Alfa Romeo        163\n",
       "AlphaTauri        122\n",
       "Alpine F1 Team     88\n",
       "Arrows             52\n",
       "Aston Martin       88\n",
       "BAR               121\n",
       "BMW Sauber        140\n",
       "Benetton          128\n",
       "Brawn              34\n",
       "Caterham          112\n",
       "Ferrari           896\n",
       "Footwork           78\n",
       "Force India       423\n",
       "Forti              42\n",
       "HRT               115\n",
       "Haas F1 Team      287\n",
       "Honda             106\n",
       "Jaguar             82\n",
       "Jordan            238\n",
       "Larrousse          30\n",
       "Ligier             78\n",
       "Lotus              76\n",
       "Lotus F1          154\n",
       "MF1                28\n",
       "Manor Marussia     66\n",
       "Marussia          118\n",
       "McLaren           893\n",
       "Mercedes          517\n",
       "Minardi           238\n",
       "Pacific            40\n",
       "Prost              50\n",
       "Racing Point       76\n",
       "Red Bull          694\n",
       "Renault           522\n",
       "Sauber            588\n",
       "Simtek             37\n",
       "Spyker             34\n",
       "Spyker MF1          8\n",
       "Stewart            40\n",
       "Super Aguri        78\n",
       "Team Lotus         30\n",
       "Toro Rosso        533\n",
       "Toyota            250\n",
       "Tyrrell           111\n",
       "Virgin             76\n",
       "Williams          895\n",
       "Name: position, dtype: int64"
      ]
     },
     "execution_count": 14,
     "metadata": {},
     "output_type": "execute_result"
    }
   ],
   "source": [
    "qualiConsData.groupby(['name'])[\"position\"].count()   #filter(lambda x: (x['V'] == 0).any())"
   ]
  },
  {
   "cell_type": "code",
   "execution_count": 15,
   "id": "ddb03fad",
   "metadata": {
    "execution": {
     "iopub.execute_input": "2023-07-17T12:35:06.132797Z",
     "iopub.status.busy": "2023-07-17T12:35:06.132080Z",
     "iopub.status.idle": "2023-07-17T12:35:06.169080Z",
     "shell.execute_reply": "2023-07-17T12:35:06.168086Z"
    },
    "papermill": {
     "duration": 0.05129,
     "end_time": "2023-07-17T12:35:06.171705",
     "exception": false,
     "start_time": "2023-07-17T12:35:06.120415",
     "status": "completed"
    },
    "tags": []
   },
   "outputs": [],
   "source": [
    "qualiConsDataDf = qualiConsData.groupby(['name']).apply(lambda x: x[x['position'] == 1 ]['position'].sum()).sort_values(ascending=False)"
   ]
  },
  {
   "cell_type": "code",
   "execution_count": 16,
   "id": "fef8c7d1",
   "metadata": {
    "execution": {
     "iopub.execute_input": "2023-07-17T12:35:06.194331Z",
     "iopub.status.busy": "2023-07-17T12:35:06.193631Z",
     "iopub.status.idle": "2023-07-17T12:35:06.201159Z",
     "shell.execute_reply": "2023-07-17T12:35:06.200297Z"
    },
    "papermill": {
     "duration": 0.021417,
     "end_time": "2023-07-17T12:35:06.203488",
     "exception": false,
     "start_time": "2023-07-17T12:35:06.182071",
     "status": "completed"
    },
    "tags": []
   },
   "outputs": [
    {
     "data": {
      "text/plain": [
       "name\n",
       "Mercedes          131\n",
       "Ferrari            95\n",
       "Red Bull           80\n",
       "McLaren            56\n",
       "Williams           38\n",
       "Renault            20\n",
       "Benetton           11\n",
       "Brawn               5\n",
       "Toyota              3\n",
       "BAR                 2\n",
       "Haas F1 Team        1\n",
       "Racing Point        1\n",
       "Jordan              1\n",
       "BMW Sauber          1\n",
       "Honda               1\n",
       "Force India         1\n",
       "Toro Rosso          1\n",
       "Pacific             0\n",
       "Super Aguri         0\n",
       "Spyker MF1          0\n",
       "Spyker              0\n",
       "Simtek              0\n",
       "Sauber              0\n",
       "Team Lotus          0\n",
       "Tyrrell             0\n",
       "Prost               0\n",
       "Virgin              0\n",
       "Stewart             0\n",
       "Alfa Romeo          0\n",
       "Minardi             0\n",
       "HRT                 0\n",
       "Alpine F1 Team      0\n",
       "Arrows              0\n",
       "Aston Martin        0\n",
       "Caterham            0\n",
       "Footwork            0\n",
       "Forti               0\n",
       "Jaguar              0\n",
       "Marussia            0\n",
       "Larrousse           0\n",
       "Ligier              0\n",
       "Lotus               0\n",
       "Lotus F1            0\n",
       "AlphaTauri          0\n",
       "Manor Marussia      0\n",
       "MF1                 0\n",
       "dtype: int64"
      ]
     },
     "execution_count": 16,
     "metadata": {},
     "output_type": "execute_result"
    }
   ],
   "source": [
    "qualiConsDataDf"
   ]
  },
  {
   "cell_type": "code",
   "execution_count": 17,
   "id": "ace4d96e",
   "metadata": {
    "execution": {
     "iopub.execute_input": "2023-07-17T12:35:06.227289Z",
     "iopub.status.busy": "2023-07-17T12:35:06.226128Z",
     "iopub.status.idle": "2023-07-17T12:35:06.842730Z",
     "shell.execute_reply": "2023-07-17T12:35:06.841722Z"
    },
    "papermill": {
     "duration": 0.631341,
     "end_time": "2023-07-17T12:35:06.845689",
     "exception": false,
     "start_time": "2023-07-17T12:35:06.214348",
     "status": "completed"
    },
    "tags": []
   },
   "outputs": [
    {
     "data": {
      "image/png": "[encoded data removed]",
      "text/plain": [
       "<Figure size 640x480 with 1 Axes>"
      ]
     },
     "metadata": {},
     "output_type": "display_data"
    }
   ],
   "source": [
    "qualiConsDataDf.plot(kind='bar',\n",
    "        x='name',\n",
    "        y='poles')\n",
    "        #color='green')\n",
    "plt.title('no of poles by each constructor')\n",
    " \n",
    "\n",
    "plt.show()"
   ]
  },
  {
   "cell_type": "code",
   "execution_count": null,
   "id": "e44ffe55",
   "metadata": {
    "papermill": {
     "duration": 0.010848,
     "end_time": "2023-07-17T12:35:06.867690",
     "exception": false,
     "start_time": "2023-07-17T12:35:06.856842",
     "status": "completed"
    },
    "tags": []
   },
   "outputs": [],
   "source": []
  }
 ],
 "metadata": {
  "kernelspec": {
   "display_name": "Python 3",
   "language": "python",
   "name": "python3"
  },
  "language_info": {
   "codemirror_mode": {
    "name": "ipython",
    "version": 3
   },
   "file_extension": ".py",
   "mimetype": "text/x-python",
   "name": "python",
   "nbconvert_exporter": "python",
   "pygments_lexer": "ipython3",
   "version": "3.10.12"
  },
  "papermill": {
   "default_parameters": {},
   "duration": 15.612074,
   "end_time": "2023-07-17T12:35:07.903909",
   "environment_variables": {},
   "exception": null,
   "input_path": "__notebook__.ipynb",
   "output_path": "__notebook__.ipynb",
   "parameters": {},
   "start_time": "2023-07-17T12:34:52.291835",
   "version": "2.4.0"
  }
 },
 "nbformat": 4,
 "nbformat_minor": 5
}
