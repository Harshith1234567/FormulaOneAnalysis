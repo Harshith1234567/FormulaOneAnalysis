{
 "cells": [
  {
   "cell_type": "code",
   "execution_count": 1,
   "id": "d030565f",
   "metadata": {
    "_cell_guid": "b1076dfc-b9ad-4769-8c92-a6c4dae69d19",
    "_uuid": "8f2839f25d086af736a60e9eeb907d3b93b6e0e5",
    "execution": {
     "iopub.execute_input": "2023-07-17T11:15:26.721513Z",
     "iopub.status.busy": "2023-07-17T11:15:26.721092Z",
     "iopub.status.idle": "2023-07-17T11:15:26.747847Z",
     "shell.execute_reply": "2023-07-17T11:15:26.746179Z"
    },
    "papermill": {
     "duration": 0.037485,
     "end_time": "2023-07-17T11:15:26.750612",
     "exception": false,
     "start_time": "2023-07-17T11:15:26.713127",
     "status": "completed"
    },
    "tags": []
   },
   "outputs": [
    {
     "name": "stdout",
     "output_type": "stream",
     "text": [
      "/kaggle/input/formula-1-world-championship-1950-2020/races.csv\n",
      "/kaggle/input/formula-1-world-championship-1950-2020/constructor_results.csv\n",
      "/kaggle/input/formula-1-world-championship-1950-2020/drivers.csv\n",
      "/kaggle/input/formula-1-world-championship-1950-2020/constructors.csv\n",
      "/kaggle/input/formula-1-world-championship-1950-2020/lap_times.csv\n",
      "/kaggle/input/formula-1-world-championship-1950-2020/status.csv\n",
      "/kaggle/input/formula-1-world-championship-1950-2020/driver_standings.csv\n",
      "/kaggle/input/formula-1-world-championship-1950-2020/seasons.csv\n",
      "/kaggle/input/formula-1-world-championship-1950-2020/pit_stops.csv\n",
      "/kaggle/input/formula-1-world-championship-1950-2020/sprint_results.csv\n",
      "/kaggle/input/formula-1-world-championship-1950-2020/constructor_standings.csv\n",
      "/kaggle/input/formula-1-world-championship-1950-2020/results.csv\n",
      "/kaggle/input/formula-1-world-championship-1950-2020/circuits.csv\n",
      "/kaggle/input/formula-1-world-championship-1950-2020/qualifying.csv\n"
     ]
    }
   ],
   "source": [
    "# This Python 3 environment comes with many helpful analytics libraries installed\n",
    "# It is defined by the kaggle/python Docker image: https://github.com/kaggle/docker-python\n",
    "# For example, here's several helpful packages to load\n",
    "\n",
    "import numpy as np # linear algebra\n",
    "import pandas as pd # data processing, CSV file I/O (e.g. pd.read_csv)\n",
    "\n",
    "# Input data files are available in the read-only \"../input/\" directory\n",
    "# For example, running this (by clicking run or pressing Shift+Enter) will list all files under the input directory\n",
    "\n",
    "import os\n",
    "for dirname, _, filenames in os.walk('/kaggle/input'):\n",
    "    for filename in filenames:\n",
    "        print(os.path.join(dirname, filename))\n",
    "\n",
    "# You can write up to 20GB to the current directory (/kaggle/working/) that gets preserved as output when you create a version using \"Save & Run All\" \n",
    "# You can also write temporary files to /kaggle/temp/, but they won't be saved outside of the current session"
   ]
  },
  {
   "cell_type": "code",
   "execution_count": 2,
   "id": "69a1ede7",
   "metadata": {
    "execution": {
     "iopub.execute_input": "2023-07-17T11:15:26.764100Z",
     "iopub.status.busy": "2023-07-17T11:15:26.763646Z",
     "iopub.status.idle": "2023-07-17T11:15:26.856986Z",
     "shell.execute_reply": "2023-07-17T11:15:26.855638Z"
    },
    "papermill": {
     "duration": 0.10333,
     "end_time": "2023-07-17T11:15:26.859705",
     "exception": false,
     "start_time": "2023-07-17T11:15:26.756375",
     "status": "completed"
    },
    "tags": []
   },
   "outputs": [
    {
     "data": {
      "text/html": [
       "<div>\n",
       "<style scoped>\n",
       "    .dataframe tbody tr th:only-of-type {\n",
       "        vertical-align: middle;\n",
       "    }\n",
       "\n",
       "    .dataframe tbody tr th {\n",
       "        vertical-align: top;\n",
       "    }\n",
       "\n",
       "    .dataframe thead th {\n",
       "        text-align: right;\n",
       "    }\n",
       "</style>\n",
       "<table border=\"1\" class=\"dataframe\">\n",
       "  <thead>\n",
       "    <tr style=\"text-align: right;\">\n",
       "      <th></th>\n",
       "      <th>circuitId</th>\n",
       "      <th>circuitRef</th>\n",
       "      <th>name</th>\n",
       "      <th>location</th>\n",
       "      <th>country</th>\n",
       "      <th>lat</th>\n",
       "      <th>lng</th>\n",
       "      <th>alt</th>\n",
       "      <th>url</th>\n",
       "    </tr>\n",
       "  </thead>\n",
       "  <tbody>\n",
       "    <tr>\n",
       "      <th>0</th>\n",
       "      <td>1</td>\n",
       "      <td>albert_park</td>\n",
       "      <td>Albert Park Grand Prix Circuit</td>\n",
       "      <td>Melbourne</td>\n",
       "      <td>Australia</td>\n",
       "      <td>-37.84970</td>\n",
       "      <td>144.96800</td>\n",
       "      <td>10</td>\n",
       "      <td>http://en.wikipedia.org/wiki/Melbourne_Grand_P...</td>\n",
       "    </tr>\n",
       "    <tr>\n",
       "      <th>1</th>\n",
       "      <td>2</td>\n",
       "      <td>sepang</td>\n",
       "      <td>Sepang International Circuit</td>\n",
       "      <td>Kuala Lumpur</td>\n",
       "      <td>Malaysia</td>\n",
       "      <td>2.76083</td>\n",
       "      <td>101.73800</td>\n",
       "      <td>18</td>\n",
       "      <td>http://en.wikipedia.org/wiki/Sepang_Internatio...</td>\n",
       "    </tr>\n",
       "    <tr>\n",
       "      <th>2</th>\n",
       "      <td>3</td>\n",
       "      <td>bahrain</td>\n",
       "      <td>Bahrain International Circuit</td>\n",
       "      <td>Sakhir</td>\n",
       "      <td>Bahrain</td>\n",
       "      <td>26.03250</td>\n",
       "      <td>50.51060</td>\n",
       "      <td>7</td>\n",
       "      <td>http://en.wikipedia.org/wiki/Bahrain_Internati...</td>\n",
       "    </tr>\n",
       "    <tr>\n",
       "      <th>3</th>\n",
       "      <td>4</td>\n",
       "      <td>catalunya</td>\n",
       "      <td>Circuit de Barcelona-Catalunya</td>\n",
       "      <td>Montmeló</td>\n",
       "      <td>Spain</td>\n",
       "      <td>41.57000</td>\n",
       "      <td>2.26111</td>\n",
       "      <td>109</td>\n",
       "      <td>http://en.wikipedia.org/wiki/Circuit_de_Barcel...</td>\n",
       "    </tr>\n",
       "    <tr>\n",
       "      <th>4</th>\n",
       "      <td>5</td>\n",
       "      <td>istanbul</td>\n",
       "      <td>Istanbul Park</td>\n",
       "      <td>Istanbul</td>\n",
       "      <td>Turkey</td>\n",
       "      <td>40.95170</td>\n",
       "      <td>29.40500</td>\n",
       "      <td>130</td>\n",
       "      <td>http://en.wikipedia.org/wiki/Istanbul_Park</td>\n",
       "    </tr>\n",
       "  </tbody>\n",
       "</table>\n",
       "</div>"
      ],
      "text/plain": [
       "   circuitId   circuitRef                            name      location  \\\n",
       "0          1  albert_park  Albert Park Grand Prix Circuit     Melbourne   \n",
       "1          2       sepang    Sepang International Circuit  Kuala Lumpur   \n",
       "2          3      bahrain   Bahrain International Circuit        Sakhir   \n",
       "3          4    catalunya  Circuit de Barcelona-Catalunya      Montmeló   \n",
       "4          5     istanbul                   Istanbul Park      Istanbul   \n",
       "\n",
       "     country       lat        lng  alt  \\\n",
       "0  Australia -37.84970  144.96800   10   \n",
       "1   Malaysia   2.76083  101.73800   18   \n",
       "2    Bahrain  26.03250   50.51060    7   \n",
       "3      Spain  41.57000    2.26111  109   \n",
       "4     Turkey  40.95170   29.40500  130   \n",
       "\n",
       "                                                 url  \n",
       "0  http://en.wikipedia.org/wiki/Melbourne_Grand_P...  \n",
       "1  http://en.wikipedia.org/wiki/Sepang_Internatio...  \n",
       "2  http://en.wikipedia.org/wiki/Bahrain_Internati...  \n",
       "3  http://en.wikipedia.org/wiki/Circuit_de_Barcel...  \n",
       "4         http://en.wikipedia.org/wiki/Istanbul_Park  "
      ]
     },
     "execution_count": 2,
     "metadata": {},
     "output_type": "execute_result"
    }
   ],
   "source": [
    "circuitData=pd.read_csv('/kaggle/input/formula-1-world-championship-1950-2020/circuits.csv')\n",
    "qualiData=pd.read_csv('/kaggle/input/formula-1-world-championship-1950-2020/qualifying.csv')\n",
    "constructorData=pd.read_csv('/kaggle/input/formula-1-world-championship-1950-2020/constructors.csv')\n",
    "circuitData.head()\n"
   ]
  },
  {
   "cell_type": "code",
   "execution_count": 3,
   "id": "24d358a7",
   "metadata": {
    "execution": {
     "iopub.execute_input": "2023-07-17T11:15:26.874433Z",
     "iopub.status.busy": "2023-07-17T11:15:26.873419Z",
     "iopub.status.idle": "2023-07-17T11:15:26.888073Z",
     "shell.execute_reply": "2023-07-17T11:15:26.887055Z"
    },
    "papermill": {
     "duration": 0.024505,
     "end_time": "2023-07-17T11:15:26.890368",
     "exception": false,
     "start_time": "2023-07-17T11:15:26.865863",
     "status": "completed"
    },
    "tags": []
   },
   "outputs": [
    {
     "data": {
      "text/html": [
       "<div>\n",
       "<style scoped>\n",
       "    .dataframe tbody tr th:only-of-type {\n",
       "        vertical-align: middle;\n",
       "    }\n",
       "\n",
       "    .dataframe tbody tr th {\n",
       "        vertical-align: top;\n",
       "    }\n",
       "\n",
       "    .dataframe thead th {\n",
       "        text-align: right;\n",
       "    }\n",
       "</style>\n",
       "<table border=\"1\" class=\"dataframe\">\n",
       "  <thead>\n",
       "    <tr style=\"text-align: right;\">\n",
       "      <th></th>\n",
       "      <th>qualifyId</th>\n",
       "      <th>raceId</th>\n",
       "      <th>driverId</th>\n",
       "      <th>constructorId</th>\n",
       "      <th>number</th>\n",
       "      <th>position</th>\n",
       "      <th>q1</th>\n",
       "      <th>q2</th>\n",
       "      <th>q3</th>\n",
       "    </tr>\n",
       "  </thead>\n",
       "  <tbody>\n",
       "    <tr>\n",
       "      <th>0</th>\n",
       "      <td>1</td>\n",
       "      <td>18</td>\n",
       "      <td>1</td>\n",
       "      <td>1</td>\n",
       "      <td>22</td>\n",
       "      <td>1</td>\n",
       "      <td>1:26.572</td>\n",
       "      <td>1:25.187</td>\n",
       "      <td>1:26.714</td>\n",
       "    </tr>\n",
       "    <tr>\n",
       "      <th>1</th>\n",
       "      <td>2</td>\n",
       "      <td>18</td>\n",
       "      <td>9</td>\n",
       "      <td>2</td>\n",
       "      <td>4</td>\n",
       "      <td>2</td>\n",
       "      <td>1:26.103</td>\n",
       "      <td>1:25.315</td>\n",
       "      <td>1:26.869</td>\n",
       "    </tr>\n",
       "    <tr>\n",
       "      <th>2</th>\n",
       "      <td>3</td>\n",
       "      <td>18</td>\n",
       "      <td>5</td>\n",
       "      <td>1</td>\n",
       "      <td>23</td>\n",
       "      <td>3</td>\n",
       "      <td>1:25.664</td>\n",
       "      <td>1:25.452</td>\n",
       "      <td>1:27.079</td>\n",
       "    </tr>\n",
       "    <tr>\n",
       "      <th>3</th>\n",
       "      <td>4</td>\n",
       "      <td>18</td>\n",
       "      <td>13</td>\n",
       "      <td>6</td>\n",
       "      <td>2</td>\n",
       "      <td>4</td>\n",
       "      <td>1:25.994</td>\n",
       "      <td>1:25.691</td>\n",
       "      <td>1:27.178</td>\n",
       "    </tr>\n",
       "    <tr>\n",
       "      <th>4</th>\n",
       "      <td>5</td>\n",
       "      <td>18</td>\n",
       "      <td>2</td>\n",
       "      <td>2</td>\n",
       "      <td>3</td>\n",
       "      <td>5</td>\n",
       "      <td>1:25.960</td>\n",
       "      <td>1:25.518</td>\n",
       "      <td>1:27.236</td>\n",
       "    </tr>\n",
       "  </tbody>\n",
       "</table>\n",
       "</div>"
      ],
      "text/plain": [
       "   qualifyId  raceId  driverId  constructorId  number  position        q1  \\\n",
       "0          1      18         1              1      22         1  1:26.572   \n",
       "1          2      18         9              2       4         2  1:26.103   \n",
       "2          3      18         5              1      23         3  1:25.664   \n",
       "3          4      18        13              6       2         4  1:25.994   \n",
       "4          5      18         2              2       3         5  1:25.960   \n",
       "\n",
       "         q2        q3  \n",
       "0  1:25.187  1:26.714  \n",
       "1  1:25.315  1:26.869  \n",
       "2  1:25.452  1:27.079  \n",
       "3  1:25.691  1:27.178  \n",
       "4  1:25.518  1:27.236  "
      ]
     },
     "execution_count": 3,
     "metadata": {},
     "output_type": "execute_result"
    }
   ],
   "source": [
    "qualiData.head()\n"
   ]
  },
  {
   "cell_type": "code",
   "execution_count": 4,
   "id": "37937506",
   "metadata": {
    "execution": {
     "iopub.execute_input": "2023-07-17T11:15:26.904671Z",
     "iopub.status.busy": "2023-07-17T11:15:26.904252Z",
     "iopub.status.idle": "2023-07-17T11:15:26.916321Z",
     "shell.execute_reply": "2023-07-17T11:15:26.915541Z"
    },
    "papermill": {
     "duration": 0.022179,
     "end_time": "2023-07-17T11:15:26.918724",
     "exception": false,
     "start_time": "2023-07-17T11:15:26.896545",
     "status": "completed"
    },
    "tags": []
   },
   "outputs": [
    {
     "data": {
      "text/html": [
       "<div>\n",
       "<style scoped>\n",
       "    .dataframe tbody tr th:only-of-type {\n",
       "        vertical-align: middle;\n",
       "    }\n",
       "\n",
       "    .dataframe tbody tr th {\n",
       "        vertical-align: top;\n",
       "    }\n",
       "\n",
       "    .dataframe thead th {\n",
       "        text-align: right;\n",
       "    }\n",
       "</style>\n",
       "<table border=\"1\" class=\"dataframe\">\n",
       "  <thead>\n",
       "    <tr style=\"text-align: right;\">\n",
       "      <th></th>\n",
       "      <th>constructorId</th>\n",
       "      <th>constructorRef</th>\n",
       "      <th>name</th>\n",
       "      <th>nationality</th>\n",
       "      <th>url</th>\n",
       "    </tr>\n",
       "  </thead>\n",
       "  <tbody>\n",
       "    <tr>\n",
       "      <th>0</th>\n",
       "      <td>1</td>\n",
       "      <td>mclaren</td>\n",
       "      <td>McLaren</td>\n",
       "      <td>British</td>\n",
       "      <td>http://en.wikipedia.org/wiki/McLaren</td>\n",
       "    </tr>\n",
       "    <tr>\n",
       "      <th>1</th>\n",
       "      <td>2</td>\n",
       "      <td>bmw_sauber</td>\n",
       "      <td>BMW Sauber</td>\n",
       "      <td>German</td>\n",
       "      <td>http://en.wikipedia.org/wiki/BMW_Sauber</td>\n",
       "    </tr>\n",
       "    <tr>\n",
       "      <th>2</th>\n",
       "      <td>3</td>\n",
       "      <td>williams</td>\n",
       "      <td>Williams</td>\n",
       "      <td>British</td>\n",
       "      <td>http://en.wikipedia.org/wiki/Williams_Grand_Pr...</td>\n",
       "    </tr>\n",
       "    <tr>\n",
       "      <th>3</th>\n",
       "      <td>4</td>\n",
       "      <td>renault</td>\n",
       "      <td>Renault</td>\n",
       "      <td>French</td>\n",
       "      <td>http://en.wikipedia.org/wiki/Renault_in_Formul...</td>\n",
       "    </tr>\n",
       "    <tr>\n",
       "      <th>4</th>\n",
       "      <td>5</td>\n",
       "      <td>toro_rosso</td>\n",
       "      <td>Toro Rosso</td>\n",
       "      <td>Italian</td>\n",
       "      <td>http://en.wikipedia.org/wiki/Scuderia_Toro_Rosso</td>\n",
       "    </tr>\n",
       "  </tbody>\n",
       "</table>\n",
       "</div>"
      ],
      "text/plain": [
       "   constructorId constructorRef        name nationality  \\\n",
       "0              1        mclaren     McLaren     British   \n",
       "1              2     bmw_sauber  BMW Sauber      German   \n",
       "2              3       williams    Williams     British   \n",
       "3              4        renault     Renault      French   \n",
       "4              5     toro_rosso  Toro Rosso     Italian   \n",
       "\n",
       "                                                 url  \n",
       "0               http://en.wikipedia.org/wiki/McLaren  \n",
       "1            http://en.wikipedia.org/wiki/BMW_Sauber  \n",
       "2  http://en.wikipedia.org/wiki/Williams_Grand_Pr...  \n",
       "3  http://en.wikipedia.org/wiki/Renault_in_Formul...  \n",
       "4   http://en.wikipedia.org/wiki/Scuderia_Toro_Rosso  "
      ]
     },
     "execution_count": 4,
     "metadata": {},
     "output_type": "execute_result"
    }
   ],
   "source": [
    "constructorData.head()"
   ]
  },
  {
   "cell_type": "code",
   "execution_count": 5,
   "id": "26a82b44",
   "metadata": {
    "execution": {
     "iopub.execute_input": "2023-07-17T11:15:26.933701Z",
     "iopub.status.busy": "2023-07-17T11:15:26.933214Z",
     "iopub.status.idle": "2023-07-17T11:15:26.940188Z",
     "shell.execute_reply": "2023-07-17T11:15:26.938974Z"
    },
    "papermill": {
     "duration": 0.017385,
     "end_time": "2023-07-17T11:15:26.942665",
     "exception": false,
     "start_time": "2023-07-17T11:15:26.925280",
     "status": "completed"
    },
    "tags": []
   },
   "outputs": [
    {
     "data": {
      "text/plain": [
       "(9575, 9)"
      ]
     },
     "execution_count": 5,
     "metadata": {},
     "output_type": "execute_result"
    }
   ],
   "source": [
    "qualiData.shape"
   ]
  },
  {
   "cell_type": "markdown",
   "id": "0946feb7",
   "metadata": {
    "papermill": {
     "duration": 0.006264,
     "end_time": "2023-07-17T11:15:26.955639",
     "exception": false,
     "start_time": "2023-07-17T11:15:26.949375",
     "status": "completed"
    },
    "tags": []
   },
   "source": [
    "# **No of poles with respect to Constructor**"
   ]
  },
  {
   "cell_type": "markdown",
   "id": "e44a3373",
   "metadata": {
    "papermill": {
     "duration": 0.006286,
     "end_time": "2023-07-17T11:15:26.968573",
     "exception": false,
     "start_time": "2023-07-17T11:15:26.962287",
     "status": "completed"
    },
    "tags": []
   },
   "source": []
  },
  {
   "cell_type": "code",
   "execution_count": 6,
   "id": "9f01a185",
   "metadata": {
    "execution": {
     "iopub.execute_input": "2023-07-17T11:15:26.984116Z",
     "iopub.status.busy": "2023-07-17T11:15:26.983520Z",
     "iopub.status.idle": "2023-07-17T11:15:27.002707Z",
     "shell.execute_reply": "2023-07-17T11:15:27.001431Z"
    },
    "papermill": {
     "duration": 0.030501,
     "end_time": "2023-07-17T11:15:27.005925",
     "exception": false,
     "start_time": "2023-07-17T11:15:26.975424",
     "status": "completed"
    },
    "tags": []
   },
   "outputs": [
    {
     "data": {
      "text/plain": [
       "0       0\n",
       "6378    0\n",
       "6380    0\n",
       "6381    0\n",
       "6382    0\n",
       "       ..\n",
       "3192    0\n",
       "3193    0\n",
       "3194    0\n",
       "3195    0\n",
       "9574    0\n",
       "Length: 9575, dtype: int64"
      ]
     },
     "execution_count": 6,
     "metadata": {},
     "output_type": "execute_result"
    }
   ],
   "source": [
    "qualiData[['position','constructorId']].isnull().sum(axis=1).sort_values(ascending=False)"
   ]
  },
  {
   "cell_type": "code",
   "execution_count": 7,
   "id": "4fd2b38f",
   "metadata": {
    "execution": {
     "iopub.execute_input": "2023-07-17T11:15:27.022489Z",
     "iopub.status.busy": "2023-07-17T11:15:27.022024Z",
     "iopub.status.idle": "2023-07-17T11:15:27.036246Z",
     "shell.execute_reply": "2023-07-17T11:15:27.035014Z"
    },
    "papermill": {
     "duration": 0.025132,
     "end_time": "2023-07-17T11:15:27.038770",
     "exception": false,
     "start_time": "2023-07-17T11:15:27.013638",
     "status": "completed"
    },
    "tags": []
   },
   "outputs": [
    {
     "data": {
      "text/plain": [
       "position    448\n",
       "dtype: int64"
      ]
     },
     "execution_count": 7,
     "metadata": {},
     "output_type": "execute_result"
    }
   ],
   "source": [
    "qualiData[['position']].isin([1]).sum(axis=0)"
   ]
  },
  {
   "cell_type": "code",
   "execution_count": 8,
   "id": "55799f92",
   "metadata": {
    "execution": {
     "iopub.execute_input": "2023-07-17T11:15:27.054886Z",
     "iopub.status.busy": "2023-07-17T11:15:27.054491Z",
     "iopub.status.idle": "2023-07-17T11:15:27.072298Z",
     "shell.execute_reply": "2023-07-17T11:15:27.071038Z"
    },
    "papermill": {
     "duration": 0.029306,
     "end_time": "2023-07-17T11:15:27.075439",
     "exception": false,
     "start_time": "2023-07-17T11:15:27.046133",
     "status": "completed"
    },
    "tags": []
   },
   "outputs": [],
   "source": [
    "qualiConsData=pd.merge(qualiData,constructorData,on='constructorId')"
   ]
  },
  {
   "cell_type": "code",
   "execution_count": 9,
   "id": "acd55c6a",
   "metadata": {
    "execution": {
     "iopub.execute_input": "2023-07-17T11:15:27.093428Z",
     "iopub.status.busy": "2023-07-17T11:15:27.092449Z",
     "iopub.status.idle": "2023-07-17T11:15:27.110016Z",
     "shell.execute_reply": "2023-07-17T11:15:27.108893Z"
    },
    "papermill": {
     "duration": 0.028312,
     "end_time": "2023-07-17T11:15:27.112418",
     "exception": false,
     "start_time": "2023-07-17T11:15:27.084106",
     "status": "completed"
    },
    "tags": []
   },
   "outputs": [
    {
     "data": {
      "text/html": [
       "<div>\n",
       "<style scoped>\n",
       "    .dataframe tbody tr th:only-of-type {\n",
       "        vertical-align: middle;\n",
       "    }\n",
       "\n",
       "    .dataframe tbody tr th {\n",
       "        vertical-align: top;\n",
       "    }\n",
       "\n",
       "    .dataframe thead th {\n",
       "        text-align: right;\n",
       "    }\n",
       "</style>\n",
       "<table border=\"1\" class=\"dataframe\">\n",
       "  <thead>\n",
       "    <tr style=\"text-align: right;\">\n",
       "      <th></th>\n",
       "      <th>qualifyId</th>\n",
       "      <th>raceId</th>\n",
       "      <th>driverId</th>\n",
       "      <th>constructorId</th>\n",
       "      <th>number</th>\n",
       "      <th>position</th>\n",
       "      <th>q1</th>\n",
       "      <th>q2</th>\n",
       "      <th>q3</th>\n",
       "      <th>constructorRef</th>\n",
       "      <th>name</th>\n",
       "      <th>nationality</th>\n",
       "      <th>url</th>\n",
       "    </tr>\n",
       "  </thead>\n",
       "  <tbody>\n",
       "    <tr>\n",
       "      <th>0</th>\n",
       "      <td>1</td>\n",
       "      <td>18</td>\n",
       "      <td>1</td>\n",
       "      <td>1</td>\n",
       "      <td>22</td>\n",
       "      <td>1</td>\n",
       "      <td>1:26.572</td>\n",
       "      <td>1:25.187</td>\n",
       "      <td>1:26.714</td>\n",
       "      <td>mclaren</td>\n",
       "      <td>McLaren</td>\n",
       "      <td>British</td>\n",
       "      <td>http://en.wikipedia.org/wiki/McLaren</td>\n",
       "    </tr>\n",
       "    <tr>\n",
       "      <th>1</th>\n",
       "      <td>3</td>\n",
       "      <td>18</td>\n",
       "      <td>5</td>\n",
       "      <td>1</td>\n",
       "      <td>23</td>\n",
       "      <td>3</td>\n",
       "      <td>1:25.664</td>\n",
       "      <td>1:25.452</td>\n",
       "      <td>1:27.079</td>\n",
       "      <td>mclaren</td>\n",
       "      <td>McLaren</td>\n",
       "      <td>British</td>\n",
       "      <td>http://en.wikipedia.org/wiki/McLaren</td>\n",
       "    </tr>\n",
       "    <tr>\n",
       "      <th>2</th>\n",
       "      <td>25</td>\n",
       "      <td>19</td>\n",
       "      <td>5</td>\n",
       "      <td>1</td>\n",
       "      <td>23</td>\n",
       "      <td>3</td>\n",
       "      <td>1:35.227</td>\n",
       "      <td>1:34.759</td>\n",
       "      <td>1:36.613</td>\n",
       "      <td>mclaren</td>\n",
       "      <td>McLaren</td>\n",
       "      <td>British</td>\n",
       "      <td>http://en.wikipedia.org/wiki/McLaren</td>\n",
       "    </tr>\n",
       "    <tr>\n",
       "      <th>3</th>\n",
       "      <td>26</td>\n",
       "      <td>19</td>\n",
       "      <td>1</td>\n",
       "      <td>1</td>\n",
       "      <td>22</td>\n",
       "      <td>4</td>\n",
       "      <td>1:35.392</td>\n",
       "      <td>1:34.627</td>\n",
       "      <td>1:36.709</td>\n",
       "      <td>mclaren</td>\n",
       "      <td>McLaren</td>\n",
       "      <td>British</td>\n",
       "      <td>http://en.wikipedia.org/wiki/McLaren</td>\n",
       "    </tr>\n",
       "    <tr>\n",
       "      <th>4</th>\n",
       "      <td>47</td>\n",
       "      <td>20</td>\n",
       "      <td>1</td>\n",
       "      <td>1</td>\n",
       "      <td>22</td>\n",
       "      <td>3</td>\n",
       "      <td>1:32.750</td>\n",
       "      <td>1:31.922</td>\n",
       "      <td>1:33.292</td>\n",
       "      <td>mclaren</td>\n",
       "      <td>McLaren</td>\n",
       "      <td>British</td>\n",
       "      <td>http://en.wikipedia.org/wiki/McLaren</td>\n",
       "    </tr>\n",
       "  </tbody>\n",
       "</table>\n",
       "</div>"
      ],
      "text/plain": [
       "   qualifyId  raceId  driverId  constructorId  number  position        q1  \\\n",
       "0          1      18         1              1      22         1  1:26.572   \n",
       "1          3      18         5              1      23         3  1:25.664   \n",
       "2         25      19         5              1      23         3  1:35.227   \n",
       "3         26      19         1              1      22         4  1:35.392   \n",
       "4         47      20         1              1      22         3  1:32.750   \n",
       "\n",
       "         q2        q3 constructorRef     name nationality  \\\n",
       "0  1:25.187  1:26.714        mclaren  McLaren     British   \n",
       "1  1:25.452  1:27.079        mclaren  McLaren     British   \n",
       "2  1:34.759  1:36.613        mclaren  McLaren     British   \n",
       "3  1:34.627  1:36.709        mclaren  McLaren     British   \n",
       "4  1:31.922  1:33.292        mclaren  McLaren     British   \n",
       "\n",
       "                                    url  \n",
       "0  http://en.wikipedia.org/wiki/McLaren  \n",
       "1  http://en.wikipedia.org/wiki/McLaren  \n",
       "2  http://en.wikipedia.org/wiki/McLaren  \n",
       "3  http://en.wikipedia.org/wiki/McLaren  \n",
       "4  http://en.wikipedia.org/wiki/McLaren  "
      ]
     },
     "execution_count": 9,
     "metadata": {},
     "output_type": "execute_result"
    }
   ],
   "source": [
    "qualiConsData.head()"
   ]
  },
  {
   "cell_type": "code",
   "execution_count": 10,
   "id": "89a3ab8e",
   "metadata": {
    "execution": {
     "iopub.execute_input": "2023-07-17T11:15:27.129631Z",
     "iopub.status.busy": "2023-07-17T11:15:27.128809Z",
     "iopub.status.idle": "2023-07-17T11:15:27.135810Z",
     "shell.execute_reply": "2023-07-17T11:15:27.134882Z"
    },
    "papermill": {
     "duration": 0.018393,
     "end_time": "2023-07-17T11:15:27.138090",
     "exception": false,
     "start_time": "2023-07-17T11:15:27.119697",
     "status": "completed"
    },
    "tags": []
   },
   "outputs": [
    {
     "data": {
      "text/plain": [
       "(9575, 13)"
      ]
     },
     "execution_count": 10,
     "metadata": {},
     "output_type": "execute_result"
    }
   ],
   "source": [
    "qualiConsData.shape"
   ]
  },
  {
   "cell_type": "code",
   "execution_count": 11,
   "id": "0c10f43a",
   "metadata": {
    "execution": {
     "iopub.execute_input": "2023-07-17T11:15:27.154937Z",
     "iopub.status.busy": "2023-07-17T11:15:27.154288Z",
     "iopub.status.idle": "2023-07-17T11:15:27.166732Z",
     "shell.execute_reply": "2023-07-17T11:15:27.165593Z"
    },
    "papermill": {
     "duration": 0.023503,
     "end_time": "2023-07-17T11:15:27.169003",
     "exception": false,
     "start_time": "2023-07-17T11:15:27.145500",
     "status": "completed"
    },
    "tags": []
   },
   "outputs": [
    {
     "data": {
      "text/plain": [
       "0       0\n",
       "6378    0\n",
       "6380    0\n",
       "6381    0\n",
       "6382    0\n",
       "       ..\n",
       "3192    0\n",
       "3193    0\n",
       "3194    0\n",
       "3195    0\n",
       "9574    0\n",
       "Length: 9575, dtype: int64"
      ]
     },
     "execution_count": 11,
     "metadata": {},
     "output_type": "execute_result"
    }
   ],
   "source": [
    "qualiConsData[['position','constructorId']].isnull().sum(axis=1).sort_values(ascending=False)"
   ]
  },
  {
   "cell_type": "code",
   "execution_count": 12,
   "id": "c7ea85a7",
   "metadata": {
    "execution": {
     "iopub.execute_input": "2023-07-17T11:15:27.186300Z",
     "iopub.status.busy": "2023-07-17T11:15:27.185666Z",
     "iopub.status.idle": "2023-07-17T11:15:27.196210Z",
     "shell.execute_reply": "2023-07-17T11:15:27.194819Z"
    },
    "papermill": {
     "duration": 0.022401,
     "end_time": "2023-07-17T11:15:27.198949",
     "exception": false,
     "start_time": "2023-07-17T11:15:27.176548",
     "status": "completed"
    },
    "tags": []
   },
   "outputs": [
    {
     "data": {
      "text/plain": [
       "position    448\n",
       "dtype: int64"
      ]
     },
     "execution_count": 12,
     "metadata": {},
     "output_type": "execute_result"
    }
   ],
   "source": [
    "qualiConsData[['position']].isin([1]).sum(axis=0)"
   ]
  },
  {
   "cell_type": "code",
   "execution_count": null,
   "id": "992dc51b",
   "metadata": {
    "papermill": {
     "duration": 0.00758,
     "end_time": "2023-07-17T11:15:27.215007",
     "exception": false,
     "start_time": "2023-07-17T11:15:27.207427",
     "status": "completed"
    },
    "tags": []
   },
   "outputs": [],
   "source": []
  }
 ],
 "metadata": {
  "kernelspec": {
   "display_name": "Python 3",
   "language": "python",
   "name": "python3"
  },
  "language_info": {
   "codemirror_mode": {
    "name": "ipython",
    "version": 3
   },
   "file_extension": ".py",
   "mimetype": "text/x-python",
   "name": "python",
   "nbconvert_exporter": "python",
   "pygments_lexer": "ipython3",
   "version": "3.10.12"
  },
  "papermill": {
   "default_parameters": {},
   "duration": 14.492923,
   "end_time": "2023-07-17T11:15:28.145296",
   "environment_variables": {},
   "exception": null,
   "input_path": "__notebook__.ipynb",
   "output_path": "__notebook__.ipynb",
   "parameters": {},
   "start_time": "2023-07-17T11:15:13.652373",
   "version": "2.4.0"
  }
 },
 "nbformat": 4,
 "nbformat_minor": 5
}
