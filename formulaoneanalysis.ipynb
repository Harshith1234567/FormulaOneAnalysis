{
 "cells": [
  {
   "cell_type": "code",
   "execution_count": 1,
   "id": "4bb7814b",
   "metadata": {
    "_cell_guid": "b1076dfc-b9ad-4769-8c92-a6c4dae69d19",
    "_uuid": "8f2839f25d086af736a60e9eeb907d3b93b6e0e5",
    "execution": {
     "iopub.execute_input": "2023-07-17T12:33:30.197645Z",
     "iopub.status.busy": "2023-07-17T12:33:30.197155Z",
     "iopub.status.idle": "2023-07-17T12:33:31.995946Z",
     "shell.execute_reply": "2023-07-17T12:33:31.994476Z"
    },
    "papermill": {
     "duration": 1.81171,
     "end_time": "2023-07-17T12:33:31.998975",
     "exception": false,
     "start_time": "2023-07-17T12:33:30.187265",
     "status": "completed"
    },
    "tags": []
   },
   "outputs": [
    {
     "name": "stderr",
     "output_type": "stream",
     "text": [
      "/opt/conda/lib/python3.10/site-packages/scipy/__init__.py:146: UserWarning: A NumPy version >=1.16.5 and <1.23.0 is required for this version of SciPy (detected version 1.23.5\n",
      "  warnings.warn(f\"A NumPy version >={np_minversion} and <{np_maxversion}\"\n"
     ]
    },
    {
     "name": "stdout",
     "output_type": "stream",
     "text": [
      "/kaggle/input/formula-1-world-championship-1950-2020/races.csv\n",
      "/kaggle/input/formula-1-world-championship-1950-2020/constructor_results.csv\n",
      "/kaggle/input/formula-1-world-championship-1950-2020/drivers.csv\n",
      "/kaggle/input/formula-1-world-championship-1950-2020/constructors.csv\n",
      "/kaggle/input/formula-1-world-championship-1950-2020/lap_times.csv\n",
      "/kaggle/input/formula-1-world-championship-1950-2020/status.csv\n",
      "/kaggle/input/formula-1-world-championship-1950-2020/driver_standings.csv\n",
      "/kaggle/input/formula-1-world-championship-1950-2020/seasons.csv\n",
      "/kaggle/input/formula-1-world-championship-1950-2020/pit_stops.csv\n",
      "/kaggle/input/formula-1-world-championship-1950-2020/sprint_results.csv\n",
      "/kaggle/input/formula-1-world-championship-1950-2020/constructor_standings.csv\n",
      "/kaggle/input/formula-1-world-championship-1950-2020/results.csv\n",
      "/kaggle/input/formula-1-world-championship-1950-2020/circuits.csv\n",
      "/kaggle/input/formula-1-world-championship-1950-2020/qualifying.csv\n"
     ]
    }
   ],
   "source": [
    "# This Python 3 environment comes with many helpful analytics libraries installed\n",
    "# It is defined by the kaggle/python Docker image: https://github.com/kaggle/docker-python\n",
    "# For example, here's several helpful packages to load\n",
    "\n",
    "import numpy as np # linear algebra\n",
    "import pandas as pd # data processing, CSV file I/O (e.g. pd.read_csv)\n",
    "import matplotlib.pyplot as plt\n",
    "import seaborn as sns\n",
    "\n",
    "# Input data files are available in the read-only \"../input/\" directory\n",
    "# For example, running this (by clicking run or pressing Shift+Enter) will list all files under the input directory\n",
    "\n",
    "import os\n",
    "for dirname, _, filenames in os.walk('/kaggle/input'):\n",
    "    for filename in filenames:\n",
    "        print(os.path.join(dirname, filename))\n",
    "\n",
    "# You can write up to 20GB to the current directory (/kaggle/working/) that gets preserved as output when you create a version using \"Save & Run All\" \n",
    "# You can also write temporary files to /kaggle/temp/, but they won't be saved outside of the current session"
   ]
  },
  {
   "cell_type": "code",
   "execution_count": 2,
   "id": "51a44fc5",
   "metadata": {
    "execution": {
     "iopub.execute_input": "2023-07-17T12:33:32.016759Z",
     "iopub.status.busy": "2023-07-17T12:33:32.015837Z",
     "iopub.status.idle": "2023-07-17T12:33:32.116271Z",
     "shell.execute_reply": "2023-07-17T12:33:32.114972Z"
    },
    "papermill": {
     "duration": 0.112534,
     "end_time": "2023-07-17T12:33:32.118880",
     "exception": false,
     "start_time": "2023-07-17T12:33:32.006346",
     "status": "completed"
    },
    "tags": []
   },
   "outputs": [
    {
     "data": {
      "text/html": [
       "<div>\n",
       "<style scoped>\n",
       "    .dataframe tbody tr th:only-of-type {\n",
       "        vertical-align: middle;\n",
       "    }\n",
       "\n",
       "    .dataframe tbody tr th {\n",
       "        vertical-align: top;\n",
       "    }\n",
       "\n",
       "    .dataframe thead th {\n",
       "        text-align: right;\n",
       "    }\n",
       "</style>\n",
       "<table border=\"1\" class=\"dataframe\">\n",
       "  <thead>\n",
       "    <tr style=\"text-align: right;\">\n",
       "      <th></th>\n",
       "      <th>circuitId</th>\n",
       "      <th>circuitRef</th>\n",
       "      <th>name</th>\n",
       "      <th>location</th>\n",
       "      <th>country</th>\n",
       "      <th>lat</th>\n",
       "      <th>lng</th>\n",
       "      <th>alt</th>\n",
       "      <th>url</th>\n",
       "    </tr>\n",
       "  </thead>\n",
       "  <tbody>\n",
       "    <tr>\n",
       "      <th>0</th>\n",
       "      <td>1</td>\n",
       "      <td>albert_park</td>\n",
       "      <td>Albert Park Grand Prix Circuit</td>\n",
       "      <td>Melbourne</td>\n",
       "      <td>Australia</td>\n",
       "      <td>-37.84970</td>\n",
       "      <td>144.96800</td>\n",
       "      <td>10</td>\n",
       "      <td>http://en.wikipedia.org/wiki/Melbourne_Grand_P...</td>\n",
       "    </tr>\n",
       "    <tr>\n",
       "      <th>1</th>\n",
       "      <td>2</td>\n",
       "      <td>sepang</td>\n",
       "      <td>Sepang International Circuit</td>\n",
       "      <td>Kuala Lumpur</td>\n",
       "      <td>Malaysia</td>\n",
       "      <td>2.76083</td>\n",
       "      <td>101.73800</td>\n",
       "      <td>18</td>\n",
       "      <td>http://en.wikipedia.org/wiki/Sepang_Internatio...</td>\n",
       "    </tr>\n",
       "    <tr>\n",
       "      <th>2</th>\n",
       "      <td>3</td>\n",
       "      <td>bahrain</td>\n",
       "      <td>Bahrain International Circuit</td>\n",
       "      <td>Sakhir</td>\n",
       "      <td>Bahrain</td>\n",
       "      <td>26.03250</td>\n",
       "      <td>50.51060</td>\n",
       "      <td>7</td>\n",
       "      <td>http://en.wikipedia.org/wiki/Bahrain_Internati...</td>\n",
       "    </tr>\n",
       "    <tr>\n",
       "      <th>3</th>\n",
       "      <td>4</td>\n",
       "      <td>catalunya</td>\n",
       "      <td>Circuit de Barcelona-Catalunya</td>\n",
       "      <td>Montmeló</td>\n",
       "      <td>Spain</td>\n",
       "      <td>41.57000</td>\n",
       "      <td>2.26111</td>\n",
       "      <td>109</td>\n",
       "      <td>http://en.wikipedia.org/wiki/Circuit_de_Barcel...</td>\n",
       "    </tr>\n",
       "    <tr>\n",
       "      <th>4</th>\n",
       "      <td>5</td>\n",
       "      <td>istanbul</td>\n",
       "      <td>Istanbul Park</td>\n",
       "      <td>Istanbul</td>\n",
       "      <td>Turkey</td>\n",
       "      <td>40.95170</td>\n",
       "      <td>29.40500</td>\n",
       "      <td>130</td>\n",
       "      <td>http://en.wikipedia.org/wiki/Istanbul_Park</td>\n",
       "    </tr>\n",
       "  </tbody>\n",
       "</table>\n",
       "</div>"
      ],
      "text/plain": [
       "   circuitId   circuitRef                            name      location  \\\n",
       "0          1  albert_park  Albert Park Grand Prix Circuit     Melbourne   \n",
       "1          2       sepang    Sepang International Circuit  Kuala Lumpur   \n",
       "2          3      bahrain   Bahrain International Circuit        Sakhir   \n",
       "3          4    catalunya  Circuit de Barcelona-Catalunya      Montmeló   \n",
       "4          5     istanbul                   Istanbul Park      Istanbul   \n",
       "\n",
       "     country       lat        lng  alt  \\\n",
       "0  Australia -37.84970  144.96800   10   \n",
       "1   Malaysia   2.76083  101.73800   18   \n",
       "2    Bahrain  26.03250   50.51060    7   \n",
       "3      Spain  41.57000    2.26111  109   \n",
       "4     Turkey  40.95170   29.40500  130   \n",
       "\n",
       "                                                 url  \n",
       "0  http://en.wikipedia.org/wiki/Melbourne_Grand_P...  \n",
       "1  http://en.wikipedia.org/wiki/Sepang_Internatio...  \n",
       "2  http://en.wikipedia.org/wiki/Bahrain_Internati...  \n",
       "3  http://en.wikipedia.org/wiki/Circuit_de_Barcel...  \n",
       "4         http://en.wikipedia.org/wiki/Istanbul_Park  "
      ]
     },
     "execution_count": 2,
     "metadata": {},
     "output_type": "execute_result"
    }
   ],
   "source": [
    "circuitData=pd.read_csv('/kaggle/input/formula-1-world-championship-1950-2020/circuits.csv')\n",
    "qualiData=pd.read_csv('/kaggle/input/formula-1-world-championship-1950-2020/qualifying.csv')\n",
    "constructorData=pd.read_csv('/kaggle/input/formula-1-world-championship-1950-2020/constructors.csv')\n",
    "circuitData.head()\n"
   ]
  },
  {
   "cell_type": "code",
   "execution_count": 3,
   "id": "13f38593",
   "metadata": {
    "execution": {
     "iopub.execute_input": "2023-07-17T12:33:32.135709Z",
     "iopub.status.busy": "2023-07-17T12:33:32.135207Z",
     "iopub.status.idle": "2023-07-17T12:33:32.151295Z",
     "shell.execute_reply": "2023-07-17T12:33:32.150184Z"
    },
    "papermill": {
     "duration": 0.027904,
     "end_time": "2023-07-17T12:33:32.154116",
     "exception": false,
     "start_time": "2023-07-17T12:33:32.126212",
     "status": "completed"
    },
    "tags": []
   },
   "outputs": [
    {
     "data": {
      "text/html": [
       "<div>\n",
       "<style scoped>\n",
       "    .dataframe tbody tr th:only-of-type {\n",
       "        vertical-align: middle;\n",
       "    }\n",
       "\n",
       "    .dataframe tbody tr th {\n",
       "        vertical-align: top;\n",
       "    }\n",
       "\n",
       "    .dataframe thead th {\n",
       "        text-align: right;\n",
       "    }\n",
       "</style>\n",
       "<table border=\"1\" class=\"dataframe\">\n",
       "  <thead>\n",
       "    <tr style=\"text-align: right;\">\n",
       "      <th></th>\n",
       "      <th>qualifyId</th>\n",
       "      <th>raceId</th>\n",
       "      <th>driverId</th>\n",
       "      <th>constructorId</th>\n",
       "      <th>number</th>\n",
       "      <th>position</th>\n",
       "      <th>q1</th>\n",
       "      <th>q2</th>\n",
       "      <th>q3</th>\n",
       "    </tr>\n",
       "  </thead>\n",
       "  <tbody>\n",
       "    <tr>\n",
       "      <th>0</th>\n",
       "      <td>1</td>\n",
       "      <td>18</td>\n",
       "      <td>1</td>\n",
       "      <td>1</td>\n",
       "      <td>22</td>\n",
       "      <td>1</td>\n",
       "      <td>1:26.572</td>\n",
       "      <td>1:25.187</td>\n",
       "      <td>1:26.714</td>\n",
       "    </tr>\n",
       "    <tr>\n",
       "      <th>1</th>\n",
       "      <td>2</td>\n",
       "      <td>18</td>\n",
       "      <td>9</td>\n",
       "      <td>2</td>\n",
       "      <td>4</td>\n",
       "      <td>2</td>\n",
       "      <td>1:26.103</td>\n",
       "      <td>1:25.315</td>\n",
       "      <td>1:26.869</td>\n",
       "    </tr>\n",
       "    <tr>\n",
       "      <th>2</th>\n",
       "      <td>3</td>\n",
       "      <td>18</td>\n",
       "      <td>5</td>\n",
       "      <td>1</td>\n",
       "      <td>23</td>\n",
       "      <td>3</td>\n",
       "      <td>1:25.664</td>\n",
       "      <td>1:25.452</td>\n",
       "      <td>1:27.079</td>\n",
       "    </tr>\n",
       "    <tr>\n",
       "      <th>3</th>\n",
       "      <td>4</td>\n",
       "      <td>18</td>\n",
       "      <td>13</td>\n",
       "      <td>6</td>\n",
       "      <td>2</td>\n",
       "      <td>4</td>\n",
       "      <td>1:25.994</td>\n",
       "      <td>1:25.691</td>\n",
       "      <td>1:27.178</td>\n",
       "    </tr>\n",
       "    <tr>\n",
       "      <th>4</th>\n",
       "      <td>5</td>\n",
       "      <td>18</td>\n",
       "      <td>2</td>\n",
       "      <td>2</td>\n",
       "      <td>3</td>\n",
       "      <td>5</td>\n",
       "      <td>1:25.960</td>\n",
       "      <td>1:25.518</td>\n",
       "      <td>1:27.236</td>\n",
       "    </tr>\n",
       "  </tbody>\n",
       "</table>\n",
       "</div>"
      ],
      "text/plain": [
       "   qualifyId  raceId  driverId  constructorId  number  position        q1  \\\n",
       "0          1      18         1              1      22         1  1:26.572   \n",
       "1          2      18         9              2       4         2  1:26.103   \n",
       "2          3      18         5              1      23         3  1:25.664   \n",
       "3          4      18        13              6       2         4  1:25.994   \n",
       "4          5      18         2              2       3         5  1:25.960   \n",
       "\n",
       "         q2        q3  \n",
       "0  1:25.187  1:26.714  \n",
       "1  1:25.315  1:26.869  \n",
       "2  1:25.452  1:27.079  \n",
       "3  1:25.691  1:27.178  \n",
       "4  1:25.518  1:27.236  "
      ]
     },
     "execution_count": 3,
     "metadata": {},
     "output_type": "execute_result"
    }
   ],
   "source": [
    "qualiData.head()\n"
   ]
  },
  {
   "cell_type": "code",
   "execution_count": 4,
   "id": "9eab5d98",
   "metadata": {
    "execution": {
     "iopub.execute_input": "2023-07-17T12:33:32.172510Z",
     "iopub.status.busy": "2023-07-17T12:33:32.172088Z",
     "iopub.status.idle": "2023-07-17T12:33:32.186983Z",
     "shell.execute_reply": "2023-07-17T12:33:32.185146Z"
    },
    "papermill": {
     "duration": 0.028327,
     "end_time": "2023-07-17T12:33:32.190764",
     "exception": false,
     "start_time": "2023-07-17T12:33:32.162437",
     "status": "completed"
    },
    "tags": []
   },
   "outputs": [
    {
     "data": {
      "text/html": [
       "<div>\n",
       "<style scoped>\n",
       "    .dataframe tbody tr th:only-of-type {\n",
       "        vertical-align: middle;\n",
       "    }\n",
       "\n",
       "    .dataframe tbody tr th {\n",
       "        vertical-align: top;\n",
       "    }\n",
       "\n",
       "    .dataframe thead th {\n",
       "        text-align: right;\n",
       "    }\n",
       "</style>\n",
       "<table border=\"1\" class=\"dataframe\">\n",
       "  <thead>\n",
       "    <tr style=\"text-align: right;\">\n",
       "      <th></th>\n",
       "      <th>constructorId</th>\n",
       "      <th>constructorRef</th>\n",
       "      <th>name</th>\n",
       "      <th>nationality</th>\n",
       "      <th>url</th>\n",
       "    </tr>\n",
       "  </thead>\n",
       "  <tbody>\n",
       "    <tr>\n",
       "      <th>0</th>\n",
       "      <td>1</td>\n",
       "      <td>mclaren</td>\n",
       "      <td>McLaren</td>\n",
       "      <td>British</td>\n",
       "      <td>http://en.wikipedia.org/wiki/McLaren</td>\n",
       "    </tr>\n",
       "    <tr>\n",
       "      <th>1</th>\n",
       "      <td>2</td>\n",
       "      <td>bmw_sauber</td>\n",
       "      <td>BMW Sauber</td>\n",
       "      <td>German</td>\n",
       "      <td>http://en.wikipedia.org/wiki/BMW_Sauber</td>\n",
       "    </tr>\n",
       "    <tr>\n",
       "      <th>2</th>\n",
       "      <td>3</td>\n",
       "      <td>williams</td>\n",
       "      <td>Williams</td>\n",
       "      <td>British</td>\n",
       "      <td>http://en.wikipedia.org/wiki/Williams_Grand_Pr...</td>\n",
       "    </tr>\n",
       "    <tr>\n",
       "      <th>3</th>\n",
       "      <td>4</td>\n",
       "      <td>renault</td>\n",
       "      <td>Renault</td>\n",
       "      <td>French</td>\n",
       "      <td>http://en.wikipedia.org/wiki/Renault_in_Formul...</td>\n",
       "    </tr>\n",
       "    <tr>\n",
       "      <th>4</th>\n",
       "      <td>5</td>\n",
       "      <td>toro_rosso</td>\n",
       "      <td>Toro Rosso</td>\n",
       "      <td>Italian</td>\n",
       "      <td>http://en.wikipedia.org/wiki/Scuderia_Toro_Rosso</td>\n",
       "    </tr>\n",
       "  </tbody>\n",
       "</table>\n",
       "</div>"
      ],
      "text/plain": [
       "   constructorId constructorRef        name nationality  \\\n",
       "0              1        mclaren     McLaren     British   \n",
       "1              2     bmw_sauber  BMW Sauber      German   \n",
       "2              3       williams    Williams     British   \n",
       "3              4        renault     Renault      French   \n",
       "4              5     toro_rosso  Toro Rosso     Italian   \n",
       "\n",
       "                                                 url  \n",
       "0               http://en.wikipedia.org/wiki/McLaren  \n",
       "1            http://en.wikipedia.org/wiki/BMW_Sauber  \n",
       "2  http://en.wikipedia.org/wiki/Williams_Grand_Pr...  \n",
       "3  http://en.wikipedia.org/wiki/Renault_in_Formul...  \n",
       "4   http://en.wikipedia.org/wiki/Scuderia_Toro_Rosso  "
      ]
     },
     "execution_count": 4,
     "metadata": {},
     "output_type": "execute_result"
    }
   ],
   "source": [
    "constructorData.head()"
   ]
  },
  {
   "cell_type": "code",
   "execution_count": 5,
   "id": "ed395f51",
   "metadata": {
    "execution": {
     "iopub.execute_input": "2023-07-17T12:33:32.212619Z",
     "iopub.status.busy": "2023-07-17T12:33:32.211338Z",
     "iopub.status.idle": "2023-07-17T12:33:32.220084Z",
     "shell.execute_reply": "2023-07-17T12:33:32.218442Z"
    },
    "papermill": {
     "duration": 0.022032,
     "end_time": "2023-07-17T12:33:32.222845",
     "exception": false,
     "start_time": "2023-07-17T12:33:32.200813",
     "status": "completed"
    },
    "tags": []
   },
   "outputs": [
    {
     "data": {
      "text/plain": [
       "(9575, 9)"
      ]
     },
     "execution_count": 5,
     "metadata": {},
     "output_type": "execute_result"
    }
   ],
   "source": [
    "qualiData.shape"
   ]
  },
  {
   "cell_type": "markdown",
   "id": "a22abb2e",
   "metadata": {
    "papermill": {
     "duration": 0.008034,
     "end_time": "2023-07-17T12:33:32.239505",
     "exception": false,
     "start_time": "2023-07-17T12:33:32.231471",
     "status": "completed"
    },
    "tags": []
   },
   "source": [
    "# **No of poles with respect to Constructor**"
   ]
  },
  {
   "cell_type": "markdown",
   "id": "a5fd9285",
   "metadata": {
    "papermill": {
     "duration": 0.008714,
     "end_time": "2023-07-17T12:33:32.257375",
     "exception": false,
     "start_time": "2023-07-17T12:33:32.248661",
     "status": "completed"
    },
    "tags": []
   },
   "source": []
  },
  {
   "cell_type": "code",
   "execution_count": 6,
   "id": "af4ddfed",
   "metadata": {
    "execution": {
     "iopub.execute_input": "2023-07-17T12:33:32.279032Z",
     "iopub.status.busy": "2023-07-17T12:33:32.278517Z",
     "iopub.status.idle": "2023-07-17T12:33:32.301046Z",
     "shell.execute_reply": "2023-07-17T12:33:32.299502Z"
    },
    "papermill": {
     "duration": 0.03797,
     "end_time": "2023-07-17T12:33:32.304134",
     "exception": false,
     "start_time": "2023-07-17T12:33:32.266164",
     "status": "completed"
    },
    "tags": []
   },
   "outputs": [
    {
     "data": {
      "text/plain": [
       "0       0\n",
       "6378    0\n",
       "6380    0\n",
       "6381    0\n",
       "6382    0\n",
       "       ..\n",
       "3192    0\n",
       "3193    0\n",
       "3194    0\n",
       "3195    0\n",
       "9574    0\n",
       "Length: 9575, dtype: int64"
      ]
     },
     "execution_count": 6,
     "metadata": {},
     "output_type": "execute_result"
    }
   ],
   "source": [
    "qualiData[['position','constructorId']].isnull().sum(axis=1).sort_values(ascending=False)"
   ]
  },
  {
   "cell_type": "code",
   "execution_count": 7,
   "id": "16db91e4",
   "metadata": {
    "execution": {
     "iopub.execute_input": "2023-07-17T12:33:32.323911Z",
     "iopub.status.busy": "2023-07-17T12:33:32.323448Z",
     "iopub.status.idle": "2023-07-17T12:33:32.338851Z",
     "shell.execute_reply": "2023-07-17T12:33:32.337680Z"
    },
    "papermill": {
     "duration": 0.028717,
     "end_time": "2023-07-17T12:33:32.341646",
     "exception": false,
     "start_time": "2023-07-17T12:33:32.312929",
     "status": "completed"
    },
    "tags": []
   },
   "outputs": [
    {
     "data": {
      "text/plain": [
       "position    448\n",
       "dtype: int64"
      ]
     },
     "execution_count": 7,
     "metadata": {},
     "output_type": "execute_result"
    }
   ],
   "source": [
    "qualiData[['position']].isin([1]).sum(axis=0)"
   ]
  },
  {
   "cell_type": "code",
   "execution_count": 8,
   "id": "e5585dc0",
   "metadata": {
    "execution": {
     "iopub.execute_input": "2023-07-17T12:33:32.362341Z",
     "iopub.status.busy": "2023-07-17T12:33:32.361934Z",
     "iopub.status.idle": "2023-07-17T12:33:32.381996Z",
     "shell.execute_reply": "2023-07-17T12:33:32.380340Z"
    },
    "papermill": {
     "duration": 0.034472,
     "end_time": "2023-07-17T12:33:32.385326",
     "exception": false,
     "start_time": "2023-07-17T12:33:32.350854",
     "status": "completed"
    },
    "tags": []
   },
   "outputs": [],
   "source": [
    "qualiConsData=pd.merge(qualiData,constructorData,on='constructorId')"
   ]
  },
  {
   "cell_type": "code",
   "execution_count": 9,
   "id": "ed1a5b00",
   "metadata": {
    "execution": {
     "iopub.execute_input": "2023-07-17T12:33:32.406621Z",
     "iopub.status.busy": "2023-07-17T12:33:32.406090Z",
     "iopub.status.idle": "2023-07-17T12:33:32.426209Z",
     "shell.execute_reply": "2023-07-17T12:33:32.424398Z"
    },
    "papermill": {
     "duration": 0.034804,
     "end_time": "2023-07-17T12:33:32.429678",
     "exception": false,
     "start_time": "2023-07-17T12:33:32.394874",
     "status": "completed"
    },
    "tags": []
   },
   "outputs": [
    {
     "data": {
      "text/html": [
       "<div>\n",
       "<style scoped>\n",
       "    .dataframe tbody tr th:only-of-type {\n",
       "        vertical-align: middle;\n",
       "    }\n",
       "\n",
       "    .dataframe tbody tr th {\n",
       "        vertical-align: top;\n",
       "    }\n",
       "\n",
       "    .dataframe thead th {\n",
       "        text-align: right;\n",
       "    }\n",
       "</style>\n",
       "<table border=\"1\" class=\"dataframe\">\n",
       "  <thead>\n",
       "    <tr style=\"text-align: right;\">\n",
       "      <th></th>\n",
       "      <th>qualifyId</th>\n",
       "      <th>raceId</th>\n",
       "      <th>driverId</th>\n",
       "      <th>constructorId</th>\n",
       "      <th>number</th>\n",
       "      <th>position</th>\n",
       "      <th>q1</th>\n",
       "      <th>q2</th>\n",
       "      <th>q3</th>\n",
       "      <th>constructorRef</th>\n",
       "      <th>name</th>\n",
       "      <th>nationality</th>\n",
       "      <th>url</th>\n",
       "    </tr>\n",
       "  </thead>\n",
       "  <tbody>\n",
       "    <tr>\n",
       "      <th>0</th>\n",
       "      <td>1</td>\n",
       "      <td>18</td>\n",
       "      <td>1</td>\n",
       "      <td>1</td>\n",
       "      <td>22</td>\n",
       "      <td>1</td>\n",
       "      <td>1:26.572</td>\n",
       "      <td>1:25.187</td>\n",
       "      <td>1:26.714</td>\n",
       "      <td>mclaren</td>\n",
       "      <td>McLaren</td>\n",
       "      <td>British</td>\n",
       "      <td>http://en.wikipedia.org/wiki/McLaren</td>\n",
       "    </tr>\n",
       "    <tr>\n",
       "      <th>1</th>\n",
       "      <td>3</td>\n",
       "      <td>18</td>\n",
       "      <td>5</td>\n",
       "      <td>1</td>\n",
       "      <td>23</td>\n",
       "      <td>3</td>\n",
       "      <td>1:25.664</td>\n",
       "      <td>1:25.452</td>\n",
       "      <td>1:27.079</td>\n",
       "      <td>mclaren</td>\n",
       "      <td>McLaren</td>\n",
       "      <td>British</td>\n",
       "      <td>http://en.wikipedia.org/wiki/McLaren</td>\n",
       "    </tr>\n",
       "    <tr>\n",
       "      <th>2</th>\n",
       "      <td>25</td>\n",
       "      <td>19</td>\n",
       "      <td>5</td>\n",
       "      <td>1</td>\n",
       "      <td>23</td>\n",
       "      <td>3</td>\n",
       "      <td>1:35.227</td>\n",
       "      <td>1:34.759</td>\n",
       "      <td>1:36.613</td>\n",
       "      <td>mclaren</td>\n",
       "      <td>McLaren</td>\n",
       "      <td>British</td>\n",
       "      <td>http://en.wikipedia.org/wiki/McLaren</td>\n",
       "    </tr>\n",
       "    <tr>\n",
       "      <th>3</th>\n",
       "      <td>26</td>\n",
       "      <td>19</td>\n",
       "      <td>1</td>\n",
       "      <td>1</td>\n",
       "      <td>22</td>\n",
       "      <td>4</td>\n",
       "      <td>1:35.392</td>\n",
       "      <td>1:34.627</td>\n",
       "      <td>1:36.709</td>\n",
       "      <td>mclaren</td>\n",
       "      <td>McLaren</td>\n",
       "      <td>British</td>\n",
       "      <td>http://en.wikipedia.org/wiki/McLaren</td>\n",
       "    </tr>\n",
       "    <tr>\n",
       "      <th>4</th>\n",
       "      <td>47</td>\n",
       "      <td>20</td>\n",
       "      <td>1</td>\n",
       "      <td>1</td>\n",
       "      <td>22</td>\n",
       "      <td>3</td>\n",
       "      <td>1:32.750</td>\n",
       "      <td>1:31.922</td>\n",
       "      <td>1:33.292</td>\n",
       "      <td>mclaren</td>\n",
       "      <td>McLaren</td>\n",
       "      <td>British</td>\n",
       "      <td>http://en.wikipedia.org/wiki/McLaren</td>\n",
       "    </tr>\n",
       "  </tbody>\n",
       "</table>\n",
       "</div>"
      ],
      "text/plain": [
       "   qualifyId  raceId  driverId  constructorId  number  position        q1  \\\n",
       "0          1      18         1              1      22         1  1:26.572   \n",
       "1          3      18         5              1      23         3  1:25.664   \n",
       "2         25      19         5              1      23         3  1:35.227   \n",
       "3         26      19         1              1      22         4  1:35.392   \n",
       "4         47      20         1              1      22         3  1:32.750   \n",
       "\n",
       "         q2        q3 constructorRef     name nationality  \\\n",
       "0  1:25.187  1:26.714        mclaren  McLaren     British   \n",
       "1  1:25.452  1:27.079        mclaren  McLaren     British   \n",
       "2  1:34.759  1:36.613        mclaren  McLaren     British   \n",
       "3  1:34.627  1:36.709        mclaren  McLaren     British   \n",
       "4  1:31.922  1:33.292        mclaren  McLaren     British   \n",
       "\n",
       "                                    url  \n",
       "0  http://en.wikipedia.org/wiki/McLaren  \n",
       "1  http://en.wikipedia.org/wiki/McLaren  \n",
       "2  http://en.wikipedia.org/wiki/McLaren  \n",
       "3  http://en.wikipedia.org/wiki/McLaren  \n",
       "4  http://en.wikipedia.org/wiki/McLaren  "
      ]
     },
     "execution_count": 9,
     "metadata": {},
     "output_type": "execute_result"
    }
   ],
   "source": [
    "qualiConsData.head()"
   ]
  },
  {
   "cell_type": "code",
   "execution_count": 10,
   "id": "069f4fc8",
   "metadata": {
    "execution": {
     "iopub.execute_input": "2023-07-17T12:33:32.451167Z",
     "iopub.status.busy": "2023-07-17T12:33:32.450678Z",
     "iopub.status.idle": "2023-07-17T12:33:32.458841Z",
     "shell.execute_reply": "2023-07-17T12:33:32.457382Z"
    },
    "papermill": {
     "duration": 0.022529,
     "end_time": "2023-07-17T12:33:32.461776",
     "exception": false,
     "start_time": "2023-07-17T12:33:32.439247",
     "status": "completed"
    },
    "tags": []
   },
   "outputs": [
    {
     "data": {
      "text/plain": [
       "(9575, 13)"
      ]
     },
     "execution_count": 10,
     "metadata": {},
     "output_type": "execute_result"
    }
   ],
   "source": [
    "qualiConsData.shape"
   ]
  },
  {
   "cell_type": "code",
   "execution_count": 11,
   "id": "52ac12f9",
   "metadata": {
    "execution": {
     "iopub.execute_input": "2023-07-17T12:33:32.482480Z",
     "iopub.status.busy": "2023-07-17T12:33:32.481683Z",
     "iopub.status.idle": "2023-07-17T12:33:32.500961Z",
     "shell.execute_reply": "2023-07-17T12:33:32.499885Z"
    },
    "papermill": {
     "duration": 0.032404,
     "end_time": "2023-07-17T12:33:32.503419",
     "exception": false,
     "start_time": "2023-07-17T12:33:32.471015",
     "status": "completed"
    },
    "tags": []
   },
   "outputs": [
    {
     "data": {
      "text/plain": [
       "0       0\n",
       "6378    0\n",
       "6380    0\n",
       "6381    0\n",
       "6382    0\n",
       "       ..\n",
       "3192    0\n",
       "3193    0\n",
       "3194    0\n",
       "3195    0\n",
       "9574    0\n",
       "Length: 9575, dtype: int64"
      ]
     },
     "execution_count": 11,
     "metadata": {},
     "output_type": "execute_result"
    }
   ],
   "source": [
    "qualiConsData[['position','constructorId','name']].isnull().sum(axis=1).sort_values(ascending=False)"
   ]
  },
  {
   "cell_type": "code",
   "execution_count": 12,
   "id": "c9bbb738",
   "metadata": {
    "execution": {
     "iopub.execute_input": "2023-07-17T12:33:32.524301Z",
     "iopub.status.busy": "2023-07-17T12:33:32.523820Z",
     "iopub.status.idle": "2023-07-17T12:33:32.538052Z",
     "shell.execute_reply": "2023-07-17T12:33:32.536442Z"
    },
    "papermill": {
     "duration": 0.028348,
     "end_time": "2023-07-17T12:33:32.541018",
     "exception": false,
     "start_time": "2023-07-17T12:33:32.512670",
     "status": "completed"
    },
    "tags": []
   },
   "outputs": [
    {
     "data": {
      "text/plain": [
       "position    448\n",
       "dtype: int64"
      ]
     },
     "execution_count": 12,
     "metadata": {},
     "output_type": "execute_result"
    }
   ],
   "source": [
    "qualiConsData[['position']].isin([1]).sum(axis=0)"
   ]
  },
  {
   "cell_type": "code",
   "execution_count": 13,
   "id": "b997c92a",
   "metadata": {
    "execution": {
     "iopub.execute_input": "2023-07-17T12:33:32.562281Z",
     "iopub.status.busy": "2023-07-17T12:33:32.561460Z",
     "iopub.status.idle": "2023-07-17T12:33:32.887998Z",
     "shell.execute_reply": "2023-07-17T12:33:32.887007Z"
    },
    "papermill": {
     "duration": 0.339816,
     "end_time": "2023-07-17T12:33:32.890285",
     "exception": false,
     "start_time": "2023-07-17T12:33:32.550469",
     "status": "completed"
    },
    "tags": []
   },
   "outputs": [
    {
     "data": {
      "text/plain": [
       "<Axes: xlabel='position'>"
      ]
     },
     "execution_count": 13,
     "metadata": {},
     "output_type": "execute_result"
    },
    {
     "data": {
      "image/png": "[encoded data removed]",
      "text/plain": [
       "<Figure size 640x480 with 1 Axes>"
      ]
     },
     "metadata": {},
     "output_type": "display_data"
    }
   ],
   "source": [
    "qualiConsData[['position']].isin([1]).value_counts().plot(kind=\"bar\")"
   ]
  },
  {
   "cell_type": "code",
   "execution_count": 14,
   "id": "cb87a4b6",
   "metadata": {
    "execution": {
     "iopub.execute_input": "2023-07-17T12:33:32.913414Z",
     "iopub.status.busy": "2023-07-17T12:33:32.912506Z",
     "iopub.status.idle": "2023-07-17T12:33:32.926301Z",
     "shell.execute_reply": "2023-07-17T12:33:32.924757Z"
    },
    "papermill": {
     "duration": 0.029502,
     "end_time": "2023-07-17T12:33:32.929637",
     "exception": false,
     "start_time": "2023-07-17T12:33:32.900135",
     "status": "completed"
    },
    "tags": []
   },
   "outputs": [
    {
     "data": {
      "text/plain": [
       "name\n",
       "Alfa Romeo        163\n",
       "AlphaTauri        122\n",
       "Alpine F1 Team     88\n",
       "Arrows             52\n",
       "Aston Martin       88\n",
       "BAR               121\n",
       "BMW Sauber        140\n",
       "Benetton          128\n",
       "Brawn              34\n",
       "Caterham          112\n",
       "Ferrari           896\n",
       "Footwork           78\n",
       "Force India       423\n",
       "Forti              42\n",
       "HRT               115\n",
       "Haas F1 Team      287\n",
       "Honda             106\n",
       "Jaguar             82\n",
       "Jordan            238\n",
       "Larrousse          30\n",
       "Ligier             78\n",
       "Lotus              76\n",
       "Lotus F1          154\n",
       "MF1                28\n",
       "Manor Marussia     66\n",
       "Marussia          118\n",
       "McLaren           893\n",
       "Mercedes          517\n",
       "Minardi           238\n",
       "Pacific            40\n",
       "Prost              50\n",
       "Racing Point       76\n",
       "Red Bull          694\n",
       "Renault           522\n",
       "Sauber            588\n",
       "Simtek             37\n",
       "Spyker             34\n",
       "Spyker MF1          8\n",
       "Stewart            40\n",
       "Super Aguri        78\n",
       "Team Lotus         30\n",
       "Toro Rosso        533\n",
       "Toyota            250\n",
       "Tyrrell           111\n",
       "Virgin             76\n",
       "Williams          895\n",
       "Name: position, dtype: int64"
      ]
     },
     "execution_count": 14,
     "metadata": {},
     "output_type": "execute_result"
    }
   ],
   "source": [
    "qualiConsData.groupby(['name'])[\"position\"].count()   #filter(lambda x: (x['V'] == 0).any())"
   ]
  },
  {
   "cell_type": "code",
   "execution_count": 15,
   "id": "8dd49c4f",
   "metadata": {
    "execution": {
     "iopub.execute_input": "2023-07-17T12:33:32.953879Z",
     "iopub.status.busy": "2023-07-17T12:33:32.953095Z",
     "iopub.status.idle": "2023-07-17T12:33:32.991889Z",
     "shell.execute_reply": "2023-07-17T12:33:32.990008Z"
    },
    "papermill": {
     "duration": 0.054744,
     "end_time": "2023-07-17T12:33:32.995357",
     "exception": false,
     "start_time": "2023-07-17T12:33:32.940613",
     "status": "completed"
    },
    "tags": []
   },
   "outputs": [],
   "source": [
    "qualiConsDataDf = qualiConsData.groupby(['name']).apply(lambda x: x[x['position'] == 1 ]['position'].sum()).sort_values(ascending=False)"
   ]
  },
  {
   "cell_type": "code",
   "execution_count": 16,
   "id": "5ca0ec41",
   "metadata": {
    "execution": {
     "iopub.execute_input": "2023-07-17T12:33:33.020888Z",
     "iopub.status.busy": "2023-07-17T12:33:33.020130Z",
     "iopub.status.idle": "2023-07-17T12:33:33.028538Z",
     "shell.execute_reply": "2023-07-17T12:33:33.027265Z"
    },
    "papermill": {
     "duration": 0.02485,
     "end_time": "2023-07-17T12:33:33.031514",
     "exception": false,
     "start_time": "2023-07-17T12:33:33.006664",
     "status": "completed"
    },
    "tags": []
   },
   "outputs": [
    {
     "data": {
      "text/plain": [
       "name\n",
       "Mercedes          131\n",
       "Ferrari            95\n",
       "Red Bull           80\n",
       "McLaren            56\n",
       "Williams           38\n",
       "Renault            20\n",
       "Benetton           11\n",
       "Brawn               5\n",
       "Toyota              3\n",
       "BAR                 2\n",
       "Haas F1 Team        1\n",
       "Racing Point        1\n",
       "Jordan              1\n",
       "BMW Sauber          1\n",
       "Honda               1\n",
       "Force India         1\n",
       "Toro Rosso          1\n",
       "Pacific             0\n",
       "Super Aguri         0\n",
       "Spyker MF1          0\n",
       "Spyker              0\n",
       "Simtek              0\n",
       "Sauber              0\n",
       "Team Lotus          0\n",
       "Tyrrell             0\n",
       "Prost               0\n",
       "Virgin              0\n",
       "Stewart             0\n",
       "Alfa Romeo          0\n",
       "Minardi             0\n",
       "HRT                 0\n",
       "Alpine F1 Team      0\n",
       "Arrows              0\n",
       "Aston Martin        0\n",
       "Caterham            0\n",
       "Footwork            0\n",
       "Forti               0\n",
       "Jaguar              0\n",
       "Marussia            0\n",
       "Larrousse           0\n",
       "Ligier              0\n",
       "Lotus               0\n",
       "Lotus F1            0\n",
       "AlphaTauri          0\n",
       "Manor Marussia      0\n",
       "MF1                 0\n",
       "dtype: int64"
      ]
     },
     "execution_count": 16,
     "metadata": {},
     "output_type": "execute_result"
    }
   ],
   "source": [
    "qualiConsDataDf"
   ]
  },
  {
   "cell_type": "code",
   "execution_count": 17,
   "id": "4185fc52",
   "metadata": {
    "execution": {
     "iopub.execute_input": "2023-07-17T12:33:33.055218Z",
     "iopub.status.busy": "2023-07-17T12:33:33.054456Z",
     "iopub.status.idle": "2023-07-17T12:33:33.669066Z",
     "shell.execute_reply": "2023-07-17T12:33:33.667704Z"
    },
    "papermill": {
     "duration": 0.629533,
     "end_time": "2023-07-17T12:33:33.671772",
     "exception": false,
     "start_time": "2023-07-17T12:33:33.042239",
     "status": "completed"
    },
    "tags": []
   },
   "outputs": [
    {
     "data": {
      "image/png": "[encoded data removed]",
      "text/plain": [
       "<Figure size 640x480 with 1 Axes>"
      ]
     },
     "metadata": {},
     "output_type": "display_data"
    }
   ],
   "source": [
    "qualiConsDataDf.plot(kind='bar',\n",
    "        x='name',\n",
    "        y='poles')\n",
    "        #color='green')\n",
    "plt.title('BarPlot')\n",
    " \n",
    "\n",
    "plt.show()"
   ]
  },
  {
   "cell_type": "code",
   "execution_count": null,
   "id": "6b04290a",
   "metadata": {
    "papermill": {
     "duration": 0.011024,
     "end_time": "2023-07-17T12:33:33.693942",
     "exception": false,
     "start_time": "2023-07-17T12:33:33.682918",
     "status": "completed"
    },
    "tags": []
   },
   "outputs": [],
   "source": []
  }
 ],
 "metadata": {
  "kernelspec": {
   "display_name": "Python 3",
   "language": "python",
   "name": "python3"
  },
  "language_info": {
   "codemirror_mode": {
    "name": "ipython",
    "version": 3
   },
   "file_extension": ".py",
   "mimetype": "text/x-python",
   "name": "python",
   "nbconvert_exporter": "python",
   "pygments_lexer": "ipython3",
   "version": "3.10.12"
  },
  "papermill": {
   "default_parameters": {},
   "duration": 17.061336,
   "end_time": "2023-07-17T12:33:34.831930",
   "environment_variables": {},
   "exception": null,
   "input_path": "__notebook__.ipynb",
   "output_path": "__notebook__.ipynb",
   "parameters": {},
   "start_time": "2023-07-17T12:33:17.770594",
   "version": "2.4.0"
  }
 },
 "nbformat": 4,
 "nbformat_minor": 5
}
